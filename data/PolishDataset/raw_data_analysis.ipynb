{
 "cells": [
  {
   "cell_type": "markdown",
   "source": [
    "# Analysis of raw dataset"
   ],
   "metadata": {
    "collapsed": false,
    "pycharm": {
     "name": "#%% md\n"
    }
   }
  },
  {
   "cell_type": "code",
   "execution_count": 132,
   "metadata": {
    "collapsed": true
   },
   "outputs": [],
   "source": [
    "import pandas as pd\n",
    "import seaborn as sns"
   ]
  },
  {
   "cell_type": "code",
   "execution_count": 133,
   "outputs": [
    {
     "data": {
      "text/plain": "Index(['EAN', 'amount', 'brand', 'capacity', 'category', 'description',\n       'extras', 'image_url', 'ingredients', 'origin', 'price', 'seller',\n       'storage', 'title', 'url', 'weight'],\n      dtype='object')"
     },
     "execution_count": 133,
     "metadata": {},
     "output_type": "execute_result"
    }
   ],
   "source": [
    "df = pd.read_csv('raw_data.csv').drop(columns=['Unnamed: 0'])\n",
    "df.keys()"
   ],
   "metadata": {
    "collapsed": false,
    "pycharm": {
     "name": "#%%\n"
    }
   }
  },
  {
   "cell_type": "code",
   "execution_count": 134,
   "outputs": [
    {
     "data": {
      "text/plain": "EAN            object\namount         object\nbrand          object\ncapacity       object\ncategory       object\ndescription    object\nextras         object\nimage_url      object\ningredients    object\norigin         object\nprice          object\nseller         object\nstorage        object\ntitle          object\nurl            object\nweight         object\ndtype: object"
     },
     "execution_count": 134,
     "metadata": {},
     "output_type": "execute_result"
    }
   ],
   "source": [
    "df.dtypes"
   ],
   "metadata": {
    "collapsed": false,
    "pycharm": {
     "name": "#%%\n"
    }
   }
  },
  {
   "cell_type": "code",
   "execution_count": 135,
   "outputs": [
    {
     "data": {
      "text/plain": "                EAN  amount      brand capacity  \\\n135   5449000040008     1 l     KINLEY      1 l   \n7454  5449000131805  330 ml  Coca-cola   330 ml   \n340   5449000275523  850 ml      FANTA   850 ml   \n4555  5904771005811   1 szt      GOSIA      NaN   \n2776  9000101384734  1.45 l      SILAN   1.45 l   \n\n                                               category  \\\n135   Napoje > Gazowane > Pomarańczowe i cytrynowe >...   \n7454                 Napoje > Napoje gazowane typu Cola   \n340   Napoje > Gazowane > Pomarańczowe i cytrynowe >...   \n4555  Środki czystości, chemia > Czyszczenie > Worki...   \n2776  Środki czystości, chemia > Pranie > Do płukani...   \n\n                                            description  \\\n135   KINLEY Napój gazowany o smaku cytrynowym\\n\\nNa...   \n7454  ul. Annopol 20 \\n03-236 Warszawa Coca-Cola Zer...   \n340   FANTA Shokata Napój gazowany\\n\\nNapój gazowany...   \n4555  GOSIA Worki na śmieci LDPE taśma ultra mocne E...   \n2776  Nowy płyn do zmiękczania tkanin Silan z formuł...   \n\n                               extras  \\\n135   \"Substancje słodzące\",\"Zawiera\"   \n7454                              NaN   \n340   \"Substancje słodzące\",\"Zawiera\"   \n4555                              NaN   \n2776                              NaN   \n\n                                              image_url  \\\n135   https://www.frisco.pl/pid,104361/n,kinley-napo...   \n7454  https://www.leclerc.rzeszow.pl/resize.php?pic=...   \n340   https://www.frisco.pl/pid,112199/n,fanta-shoka...   \n4555  https://www.frisco.pl/pid,127091/n,gosia-worki...   \n2776  https://www.frisco.pl/pid,125085/n,silan-fresh...   \n\n                                            ingredients origin  price  \\\n135   woda\\nA-cukier lub B-syrop fruktozowo-glukozow...    NaN   4.69   \n7454  woda\\ndwutlenek węgla\\nbarwnik E 150d\\nkwas: k...    NaN   2.19   \n340   woda\\ncukier\\nsok cytrynowy z soku zagęszczone...    NaN   3.99   \n4555                                                NaN    NaN   6.99   \n2776  5-15% kationowe środki powierzchniowo czynne\\n...    NaN  13.99   \n\n               seller                                            storage  \\\n135            Frisco  Zawartość soku może powodować powstawanie natu...   \n7454  Leclerc Rzeszów                                                NaN   \n340            Frisco  Zawartość soku może powodować powstawanie natu...   \n4555           Frisco                                                NaN   \n2776           Frisco  Okres trwałości: 24 miesiące od daty produkcji...   \n\n                                                  title  \\\n135            KINLEY Napój gazowany o smaku cytrynowym   \n7454               Coca-Cola zero Napój gazowany 330 ml   \n340                        FANTA Shokata Napój gazowany   \n4555  GOSIA Worki na śmieci LDPE taśma ultra mocne E...   \n2776  SILAN Fresh Control Płyn do zmiękczania tkanin...   \n\n                                                    url             weight  \n135   https://www.frisco.pl/pid,104361/n,kinley-napo...                NaN  \n7454  https://www.leclerc.rzeszow.pl/coca-cola-zero-...  Waga netto 330 ml  \n340   https://www.frisco.pl/pid,112199/n,fanta-shoka...                NaN  \n4555  https://www.frisco.pl/pid,127091/n,gosia-worki...              1 szt  \n2776  https://www.frisco.pl/pid,125085/n,silan-fresh...                NaN  ",
      "text/html": "<div>\n<style scoped>\n    .dataframe tbody tr th:only-of-type {\n        vertical-align: middle;\n    }\n\n    .dataframe tbody tr th {\n        vertical-align: top;\n    }\n\n    .dataframe thead th {\n        text-align: right;\n    }\n</style>\n<table border=\"1\" class=\"dataframe\">\n  <thead>\n    <tr style=\"text-align: right;\">\n      <th></th>\n      <th>EAN</th>\n      <th>amount</th>\n      <th>brand</th>\n      <th>capacity</th>\n      <th>category</th>\n      <th>description</th>\n      <th>extras</th>\n      <th>image_url</th>\n      <th>ingredients</th>\n      <th>origin</th>\n      <th>price</th>\n      <th>seller</th>\n      <th>storage</th>\n      <th>title</th>\n      <th>url</th>\n      <th>weight</th>\n    </tr>\n  </thead>\n  <tbody>\n    <tr>\n      <th>135</th>\n      <td>5449000040008</td>\n      <td>1 l</td>\n      <td>KINLEY</td>\n      <td>1 l</td>\n      <td>Napoje &gt; Gazowane &gt; Pomarańczowe i cytrynowe &gt;...</td>\n      <td>KINLEY Napój gazowany o smaku cytrynowym\\n\\nNa...</td>\n      <td>\"Substancje słodzące\",\"Zawiera\"</td>\n      <td>https://www.frisco.pl/pid,104361/n,kinley-napo...</td>\n      <td>woda\\nA-cukier lub B-syrop fruktozowo-glukozow...</td>\n      <td>NaN</td>\n      <td>4.69</td>\n      <td>Frisco</td>\n      <td>Zawartość soku może powodować powstawanie natu...</td>\n      <td>KINLEY Napój gazowany o smaku cytrynowym</td>\n      <td>https://www.frisco.pl/pid,104361/n,kinley-napo...</td>\n      <td>NaN</td>\n    </tr>\n    <tr>\n      <th>7454</th>\n      <td>5449000131805</td>\n      <td>330 ml</td>\n      <td>Coca-cola</td>\n      <td>330 ml</td>\n      <td>Napoje &gt; Napoje gazowane typu Cola</td>\n      <td>ul. Annopol 20 \\n03-236 Warszawa Coca-Cola Zer...</td>\n      <td>NaN</td>\n      <td>https://www.leclerc.rzeszow.pl/resize.php?pic=...</td>\n      <td>woda\\ndwutlenek węgla\\nbarwnik E 150d\\nkwas: k...</td>\n      <td>NaN</td>\n      <td>2.19</td>\n      <td>Leclerc Rzeszów</td>\n      <td>NaN</td>\n      <td>Coca-Cola zero Napój gazowany 330 ml</td>\n      <td>https://www.leclerc.rzeszow.pl/coca-cola-zero-...</td>\n      <td>Waga netto 330 ml</td>\n    </tr>\n    <tr>\n      <th>340</th>\n      <td>5449000275523</td>\n      <td>850 ml</td>\n      <td>FANTA</td>\n      <td>850 ml</td>\n      <td>Napoje &gt; Gazowane &gt; Pomarańczowe i cytrynowe &gt;...</td>\n      <td>FANTA Shokata Napój gazowany\\n\\nNapój gazowany...</td>\n      <td>\"Substancje słodzące\",\"Zawiera\"</td>\n      <td>https://www.frisco.pl/pid,112199/n,fanta-shoka...</td>\n      <td>woda\\ncukier\\nsok cytrynowy z soku zagęszczone...</td>\n      <td>NaN</td>\n      <td>3.99</td>\n      <td>Frisco</td>\n      <td>Zawartość soku może powodować powstawanie natu...</td>\n      <td>FANTA Shokata Napój gazowany</td>\n      <td>https://www.frisco.pl/pid,112199/n,fanta-shoka...</td>\n      <td>NaN</td>\n    </tr>\n    <tr>\n      <th>4555</th>\n      <td>5904771005811</td>\n      <td>1 szt</td>\n      <td>GOSIA</td>\n      <td>NaN</td>\n      <td>Środki czystości, chemia &gt; Czyszczenie &gt; Worki...</td>\n      <td>GOSIA Worki na śmieci LDPE taśma ultra mocne E...</td>\n      <td>NaN</td>\n      <td>https://www.frisco.pl/pid,127091/n,gosia-worki...</td>\n      <td>NaN</td>\n      <td>NaN</td>\n      <td>6.99</td>\n      <td>Frisco</td>\n      <td>NaN</td>\n      <td>GOSIA Worki na śmieci LDPE taśma ultra mocne E...</td>\n      <td>https://www.frisco.pl/pid,127091/n,gosia-worki...</td>\n      <td>1 szt</td>\n    </tr>\n    <tr>\n      <th>2776</th>\n      <td>9000101384734</td>\n      <td>1.45 l</td>\n      <td>SILAN</td>\n      <td>1.45 l</td>\n      <td>Środki czystości, chemia &gt; Pranie &gt; Do płukani...</td>\n      <td>Nowy płyn do zmiękczania tkanin Silan z formuł...</td>\n      <td>NaN</td>\n      <td>https://www.frisco.pl/pid,125085/n,silan-fresh...</td>\n      <td>5-15% kationowe środki powierzchniowo czynne\\n...</td>\n      <td>NaN</td>\n      <td>13.99</td>\n      <td>Frisco</td>\n      <td>Okres trwałości: 24 miesiące od daty produkcji...</td>\n      <td>SILAN Fresh Control Płyn do zmiękczania tkanin...</td>\n      <td>https://www.frisco.pl/pid,125085/n,silan-fresh...</td>\n      <td>NaN</td>\n    </tr>\n  </tbody>\n</table>\n</div>"
     },
     "execution_count": 135,
     "metadata": {},
     "output_type": "execute_result"
    }
   ],
   "source": [
    "df = df.sample(frac=1) # shuffle data\n",
    "df.head()"
   ],
   "metadata": {
    "collapsed": false,
    "pycharm": {
     "name": "#%%\n"
    }
   }
  },
  {
   "cell_type": "markdown",
   "source": [
    "## Data cleaning\n",
    "Choose records with EAN and title available"
   ],
   "metadata": {
    "collapsed": false,
    "pycharm": {
     "name": "#%% md\n"
    }
   }
  },
  {
   "cell_type": "code",
   "execution_count": 136,
   "outputs": [],
   "source": [
    "df = df.dropna(subset=['EAN', 'title'])"
   ],
   "metadata": {
    "collapsed": false,
    "pycharm": {
     "name": "#%%\n"
    }
   }
  },
  {
   "cell_type": "markdown",
   "source": [
    "Extract the main category from category tree."
   ],
   "metadata": {
    "collapsed": false,
    "pycharm": {
     "name": "#%% md\n"
    }
   }
  },
  {
   "cell_type": "code",
   "execution_count": 137,
   "outputs": [
    {
     "data": {
      "text/plain": "                              0  \\\n135                     Napoje    \n7454                    Napoje    \n340                     Napoje    \n4555  Środki czystości, chemia    \n2776  Środki czystości, chemia    \n\n                                                      1  \n135    Gazowane > Pomarańczowe i cytrynowe > Cytryno...  \n7454                          Napoje gazowane typu Cola  \n340    Gazowane > Pomarańczowe i cytrynowe > Inne > ...  \n4555   Czyszczenie > Worki na śmieci > 35 litrów > <...  \n2776   Pranie > Do płukania > Płyn > 1-2 l > SILAN F...  ",
      "text/html": "<div>\n<style scoped>\n    .dataframe tbody tr th:only-of-type {\n        vertical-align: middle;\n    }\n\n    .dataframe tbody tr th {\n        vertical-align: top;\n    }\n\n    .dataframe thead th {\n        text-align: right;\n    }\n</style>\n<table border=\"1\" class=\"dataframe\">\n  <thead>\n    <tr style=\"text-align: right;\">\n      <th></th>\n      <th>0</th>\n      <th>1</th>\n    </tr>\n  </thead>\n  <tbody>\n    <tr>\n      <th>135</th>\n      <td>Napoje</td>\n      <td>Gazowane &gt; Pomarańczowe i cytrynowe &gt; Cytryno...</td>\n    </tr>\n    <tr>\n      <th>7454</th>\n      <td>Napoje</td>\n      <td>Napoje gazowane typu Cola</td>\n    </tr>\n    <tr>\n      <th>340</th>\n      <td>Napoje</td>\n      <td>Gazowane &gt; Pomarańczowe i cytrynowe &gt; Inne &gt; ...</td>\n    </tr>\n    <tr>\n      <th>4555</th>\n      <td>Środki czystości, chemia</td>\n      <td>Czyszczenie &gt; Worki na śmieci &gt; 35 litrów &gt; &lt;...</td>\n    </tr>\n    <tr>\n      <th>2776</th>\n      <td>Środki czystości, chemia</td>\n      <td>Pranie &gt; Do płukania &gt; Płyn &gt; 1-2 l &gt; SILAN F...</td>\n    </tr>\n  </tbody>\n</table>\n</div>"
     },
     "execution_count": 137,
     "metadata": {},
     "output_type": "execute_result"
    }
   ],
   "source": [
    "categories = df['category'].str.split('>', n=1, expand=True)\n",
    "categories.head()"
   ],
   "metadata": {
    "collapsed": false,
    "pycharm": {
     "name": "#%%\n"
    }
   }
  },
  {
   "cell_type": "code",
   "execution_count": 138,
   "outputs": [
    {
     "data": {
      "text/plain": "                           EAN  amount  brand  capacity  category  \\\nmain_category                                                       \nnapoje                    3353    3319   3165      3295      3353   \nśrodki czystości, chemia  2430    2430   2430      1241      2430   \ndrogeria                   791     790    774         0       791   \nchemia                     689     543    409       543       689   \nwoda i napoje              586     583    574         0       586   \nalkohol                    323     254    154       319       323   \nbio                         86      86     86        64        86   \nsoki świeże i tłoczone      40      37     34        37        40   \nmama i dziecko              24      24     24         6        24   \nstrefa roślinna             20      20     20        20        20   \nzdrowa żywność               8       8      8         0         8   \nspożywcze                    6       6      6         4         6   \nartykuły spożywcze           3       0      2         0         3   \nartykuły przemysłowe         2       2      2         0         2   \nwarzywniak                   1       1      1         1         1   \n\n                          description  extras  image_url  ingredients  origin  \\\nmain_category                                                                   \nnapoje                           3353    1222       3353         2037     255   \nśrodki czystości, chemia         2430       2       2430         1522     735   \ndrogeria                          556       1        791          630     320   \nchemia                            685       1        689          478     311   \nwoda i napoje                     339     209        586          467     150   \nalkohol                           277     222        316           37      43   \nbio                                86       0         86           30      12   \nsoki świeże i tłoczone             40       6         40           10       0   \nmama i dziecko                     24       4         24           18       4   \nstrefa roślinna                    20       0         20            8       0   \nzdrowa żywność                      6       0          8            6       0   \nspożywcze                           6       0          6            4       2   \nartykuły spożywcze                  3       0          3            0       0   \nartykuły przemysłowe                1       0          2            0       0   \nwarzywniak                          1       0          1            1       0   \n\n                          price  seller  storage  title   url  weight  \nmain_category                                                          \nnapoje                     3045    3353     2062   3353  3353    1670  \nśrodki czystości, chemia   2430    2430     1096   2430  2430    1867  \ndrogeria                    791     791      418    791   791       0  \nchemia                      688     689      353    689   689     543  \nwoda i napoje               584     586      575    586   586       0  \nalkohol                     168     315       30    323   316     115  \nbio                          86      86       29     86    86      26  \nsoki świeże i tłoczone       40      40       34     40    40      37  \nmama i dziecko               24      24       10     24    24      18  \nstrefa roślinna              20      20       20     20    20       0  \nzdrowa żywność                8       8        8      8     8       0  \nspożywcze                     6       6        2      6     6       4  \nartykuły spożywcze            3       3        3      3     3       0  \nartykuły przemysłowe          2       2        0      2     2       0  \nwarzywniak                    1       1        1      1     1       1  ",
      "text/html": "<div>\n<style scoped>\n    .dataframe tbody tr th:only-of-type {\n        vertical-align: middle;\n    }\n\n    .dataframe tbody tr th {\n        vertical-align: top;\n    }\n\n    .dataframe thead th {\n        text-align: right;\n    }\n</style>\n<table border=\"1\" class=\"dataframe\">\n  <thead>\n    <tr style=\"text-align: right;\">\n      <th></th>\n      <th>EAN</th>\n      <th>amount</th>\n      <th>brand</th>\n      <th>capacity</th>\n      <th>category</th>\n      <th>description</th>\n      <th>extras</th>\n      <th>image_url</th>\n      <th>ingredients</th>\n      <th>origin</th>\n      <th>price</th>\n      <th>seller</th>\n      <th>storage</th>\n      <th>title</th>\n      <th>url</th>\n      <th>weight</th>\n    </tr>\n    <tr>\n      <th>main_category</th>\n      <th></th>\n      <th></th>\n      <th></th>\n      <th></th>\n      <th></th>\n      <th></th>\n      <th></th>\n      <th></th>\n      <th></th>\n      <th></th>\n      <th></th>\n      <th></th>\n      <th></th>\n      <th></th>\n      <th></th>\n      <th></th>\n    </tr>\n  </thead>\n  <tbody>\n    <tr>\n      <th>napoje</th>\n      <td>3353</td>\n      <td>3319</td>\n      <td>3165</td>\n      <td>3295</td>\n      <td>3353</td>\n      <td>3353</td>\n      <td>1222</td>\n      <td>3353</td>\n      <td>2037</td>\n      <td>255</td>\n      <td>3045</td>\n      <td>3353</td>\n      <td>2062</td>\n      <td>3353</td>\n      <td>3353</td>\n      <td>1670</td>\n    </tr>\n    <tr>\n      <th>środki czystości, chemia</th>\n      <td>2430</td>\n      <td>2430</td>\n      <td>2430</td>\n      <td>1241</td>\n      <td>2430</td>\n      <td>2430</td>\n      <td>2</td>\n      <td>2430</td>\n      <td>1522</td>\n      <td>735</td>\n      <td>2430</td>\n      <td>2430</td>\n      <td>1096</td>\n      <td>2430</td>\n      <td>2430</td>\n      <td>1867</td>\n    </tr>\n    <tr>\n      <th>drogeria</th>\n      <td>791</td>\n      <td>790</td>\n      <td>774</td>\n      <td>0</td>\n      <td>791</td>\n      <td>556</td>\n      <td>1</td>\n      <td>791</td>\n      <td>630</td>\n      <td>320</td>\n      <td>791</td>\n      <td>791</td>\n      <td>418</td>\n      <td>791</td>\n      <td>791</td>\n      <td>0</td>\n    </tr>\n    <tr>\n      <th>chemia</th>\n      <td>689</td>\n      <td>543</td>\n      <td>409</td>\n      <td>543</td>\n      <td>689</td>\n      <td>685</td>\n      <td>1</td>\n      <td>689</td>\n      <td>478</td>\n      <td>311</td>\n      <td>688</td>\n      <td>689</td>\n      <td>353</td>\n      <td>689</td>\n      <td>689</td>\n      <td>543</td>\n    </tr>\n    <tr>\n      <th>woda i napoje</th>\n      <td>586</td>\n      <td>583</td>\n      <td>574</td>\n      <td>0</td>\n      <td>586</td>\n      <td>339</td>\n      <td>209</td>\n      <td>586</td>\n      <td>467</td>\n      <td>150</td>\n      <td>584</td>\n      <td>586</td>\n      <td>575</td>\n      <td>586</td>\n      <td>586</td>\n      <td>0</td>\n    </tr>\n    <tr>\n      <th>alkohol</th>\n      <td>323</td>\n      <td>254</td>\n      <td>154</td>\n      <td>319</td>\n      <td>323</td>\n      <td>277</td>\n      <td>222</td>\n      <td>316</td>\n      <td>37</td>\n      <td>43</td>\n      <td>168</td>\n      <td>315</td>\n      <td>30</td>\n      <td>323</td>\n      <td>316</td>\n      <td>115</td>\n    </tr>\n    <tr>\n      <th>bio</th>\n      <td>86</td>\n      <td>86</td>\n      <td>86</td>\n      <td>64</td>\n      <td>86</td>\n      <td>86</td>\n      <td>0</td>\n      <td>86</td>\n      <td>30</td>\n      <td>12</td>\n      <td>86</td>\n      <td>86</td>\n      <td>29</td>\n      <td>86</td>\n      <td>86</td>\n      <td>26</td>\n    </tr>\n    <tr>\n      <th>soki świeże i tłoczone</th>\n      <td>40</td>\n      <td>37</td>\n      <td>34</td>\n      <td>37</td>\n      <td>40</td>\n      <td>40</td>\n      <td>6</td>\n      <td>40</td>\n      <td>10</td>\n      <td>0</td>\n      <td>40</td>\n      <td>40</td>\n      <td>34</td>\n      <td>40</td>\n      <td>40</td>\n      <td>37</td>\n    </tr>\n    <tr>\n      <th>mama i dziecko</th>\n      <td>24</td>\n      <td>24</td>\n      <td>24</td>\n      <td>6</td>\n      <td>24</td>\n      <td>24</td>\n      <td>4</td>\n      <td>24</td>\n      <td>18</td>\n      <td>4</td>\n      <td>24</td>\n      <td>24</td>\n      <td>10</td>\n      <td>24</td>\n      <td>24</td>\n      <td>18</td>\n    </tr>\n    <tr>\n      <th>strefa roślinna</th>\n      <td>20</td>\n      <td>20</td>\n      <td>20</td>\n      <td>20</td>\n      <td>20</td>\n      <td>20</td>\n      <td>0</td>\n      <td>20</td>\n      <td>8</td>\n      <td>0</td>\n      <td>20</td>\n      <td>20</td>\n      <td>20</td>\n      <td>20</td>\n      <td>20</td>\n      <td>0</td>\n    </tr>\n    <tr>\n      <th>zdrowa żywność</th>\n      <td>8</td>\n      <td>8</td>\n      <td>8</td>\n      <td>0</td>\n      <td>8</td>\n      <td>6</td>\n      <td>0</td>\n      <td>8</td>\n      <td>6</td>\n      <td>0</td>\n      <td>8</td>\n      <td>8</td>\n      <td>8</td>\n      <td>8</td>\n      <td>8</td>\n      <td>0</td>\n    </tr>\n    <tr>\n      <th>spożywcze</th>\n      <td>6</td>\n      <td>6</td>\n      <td>6</td>\n      <td>4</td>\n      <td>6</td>\n      <td>6</td>\n      <td>0</td>\n      <td>6</td>\n      <td>4</td>\n      <td>2</td>\n      <td>6</td>\n      <td>6</td>\n      <td>2</td>\n      <td>6</td>\n      <td>6</td>\n      <td>4</td>\n    </tr>\n    <tr>\n      <th>artykuły spożywcze</th>\n      <td>3</td>\n      <td>0</td>\n      <td>2</td>\n      <td>0</td>\n      <td>3</td>\n      <td>3</td>\n      <td>0</td>\n      <td>3</td>\n      <td>0</td>\n      <td>0</td>\n      <td>3</td>\n      <td>3</td>\n      <td>3</td>\n      <td>3</td>\n      <td>3</td>\n      <td>0</td>\n    </tr>\n    <tr>\n      <th>artykuły przemysłowe</th>\n      <td>2</td>\n      <td>2</td>\n      <td>2</td>\n      <td>0</td>\n      <td>2</td>\n      <td>1</td>\n      <td>0</td>\n      <td>2</td>\n      <td>0</td>\n      <td>0</td>\n      <td>2</td>\n      <td>2</td>\n      <td>0</td>\n      <td>2</td>\n      <td>2</td>\n      <td>0</td>\n    </tr>\n    <tr>\n      <th>warzywniak</th>\n      <td>1</td>\n      <td>1</td>\n      <td>1</td>\n      <td>1</td>\n      <td>1</td>\n      <td>1</td>\n      <td>0</td>\n      <td>1</td>\n      <td>1</td>\n      <td>0</td>\n      <td>1</td>\n      <td>1</td>\n      <td>1</td>\n      <td>1</td>\n      <td>1</td>\n      <td>1</td>\n    </tr>\n  </tbody>\n</table>\n</div>"
     },
     "execution_count": 138,
     "metadata": {},
     "output_type": "execute_result"
    }
   ],
   "source": [
    "df['main_category'] = categories[0]\n",
    "df['main_category'] = df['main_category'].str.lower()\n",
    "df['main_category'] = df['main_category'].str.strip()\n",
    "df.groupby(by='main_category').count().sort_values(by='EAN', ascending=False)"
   ],
   "metadata": {
    "collapsed": false,
    "pycharm": {
     "name": "#%%\n"
    }
   }
  },
  {
   "cell_type": "markdown",
   "source": [
    "Unify category names"
   ],
   "metadata": {
    "collapsed": false,
    "pycharm": {
     "name": "#%% md\n"
    }
   }
  },
  {
   "cell_type": "code",
   "execution_count": 139,
   "outputs": [
    {
     "data": {
      "text/plain": "                       EAN  amount  brand  capacity  category  description  \\\nmain_category                                                                \nnapoje                3979    3939   3773      3332      3979         3732   \nchemia                3910    3763   3613      1784      3910         3671   \nalkohol                323     254    154       319       323          277   \nbio                     86      86     86        64        86           86   \nmama i dziecko          24      24     24         6        24           24   \nstrefa roślinna         20      20     20        20        20           20   \nzdrowa żywność           8       8      8         0         8            6   \nspożywcze                6       6      6         4         6            6   \nartykuły spożywcze       3       0      2         0         3            3   \nartykuły przemysłowe     2       2      2         0         2            1   \nwarzywniak               1       1      1         1         1            1   \n\n                      extras  image_url  ingredients  origin  price  seller  \\\nmain_category                                                                 \nnapoje                  1437       3979         2514     405   3669    3979   \nchemia                     4       3910         2630    1366   3909    3910   \nalkohol                  222        316           37      43    168     315   \nbio                        0         86           30      12     86      86   \nmama i dziecko             4         24           18       4     24      24   \nstrefa roślinna            0         20            8       0     20      20   \nzdrowa żywność             0          8            6       0      8       8   \nspożywcze                  0          6            4       2      6       6   \nartykuły spożywcze         0          3            0       0      3       3   \nartykuły przemysłowe       0          2            0       0      2       2   \nwarzywniak                 0          1            1       0      1       1   \n\n                      storage  title   url  weight  \nmain_category                                       \nnapoje                   2671   3979  3979    1707  \nchemia                   1867   3910  3910    2410  \nalkohol                    30    323   316     115  \nbio                        29     86    86      26  \nmama i dziecko             10     24    24      18  \nstrefa roślinna            20     20    20       0  \nzdrowa żywność              8      8     8       0  \nspożywcze                   2      6     6       4  \nartykuły spożywcze          3      3     3       0  \nartykuły przemysłowe        0      2     2       0  \nwarzywniak                  1      1     1       1  ",
      "text/html": "<div>\n<style scoped>\n    .dataframe tbody tr th:only-of-type {\n        vertical-align: middle;\n    }\n\n    .dataframe tbody tr th {\n        vertical-align: top;\n    }\n\n    .dataframe thead th {\n        text-align: right;\n    }\n</style>\n<table border=\"1\" class=\"dataframe\">\n  <thead>\n    <tr style=\"text-align: right;\">\n      <th></th>\n      <th>EAN</th>\n      <th>amount</th>\n      <th>brand</th>\n      <th>capacity</th>\n      <th>category</th>\n      <th>description</th>\n      <th>extras</th>\n      <th>image_url</th>\n      <th>ingredients</th>\n      <th>origin</th>\n      <th>price</th>\n      <th>seller</th>\n      <th>storage</th>\n      <th>title</th>\n      <th>url</th>\n      <th>weight</th>\n    </tr>\n    <tr>\n      <th>main_category</th>\n      <th></th>\n      <th></th>\n      <th></th>\n      <th></th>\n      <th></th>\n      <th></th>\n      <th></th>\n      <th></th>\n      <th></th>\n      <th></th>\n      <th></th>\n      <th></th>\n      <th></th>\n      <th></th>\n      <th></th>\n      <th></th>\n    </tr>\n  </thead>\n  <tbody>\n    <tr>\n      <th>napoje</th>\n      <td>3979</td>\n      <td>3939</td>\n      <td>3773</td>\n      <td>3332</td>\n      <td>3979</td>\n      <td>3732</td>\n      <td>1437</td>\n      <td>3979</td>\n      <td>2514</td>\n      <td>405</td>\n      <td>3669</td>\n      <td>3979</td>\n      <td>2671</td>\n      <td>3979</td>\n      <td>3979</td>\n      <td>1707</td>\n    </tr>\n    <tr>\n      <th>chemia</th>\n      <td>3910</td>\n      <td>3763</td>\n      <td>3613</td>\n      <td>1784</td>\n      <td>3910</td>\n      <td>3671</td>\n      <td>4</td>\n      <td>3910</td>\n      <td>2630</td>\n      <td>1366</td>\n      <td>3909</td>\n      <td>3910</td>\n      <td>1867</td>\n      <td>3910</td>\n      <td>3910</td>\n      <td>2410</td>\n    </tr>\n    <tr>\n      <th>alkohol</th>\n      <td>323</td>\n      <td>254</td>\n      <td>154</td>\n      <td>319</td>\n      <td>323</td>\n      <td>277</td>\n      <td>222</td>\n      <td>316</td>\n      <td>37</td>\n      <td>43</td>\n      <td>168</td>\n      <td>315</td>\n      <td>30</td>\n      <td>323</td>\n      <td>316</td>\n      <td>115</td>\n    </tr>\n    <tr>\n      <th>bio</th>\n      <td>86</td>\n      <td>86</td>\n      <td>86</td>\n      <td>64</td>\n      <td>86</td>\n      <td>86</td>\n      <td>0</td>\n      <td>86</td>\n      <td>30</td>\n      <td>12</td>\n      <td>86</td>\n      <td>86</td>\n      <td>29</td>\n      <td>86</td>\n      <td>86</td>\n      <td>26</td>\n    </tr>\n    <tr>\n      <th>mama i dziecko</th>\n      <td>24</td>\n      <td>24</td>\n      <td>24</td>\n      <td>6</td>\n      <td>24</td>\n      <td>24</td>\n      <td>4</td>\n      <td>24</td>\n      <td>18</td>\n      <td>4</td>\n      <td>24</td>\n      <td>24</td>\n      <td>10</td>\n      <td>24</td>\n      <td>24</td>\n      <td>18</td>\n    </tr>\n    <tr>\n      <th>strefa roślinna</th>\n      <td>20</td>\n      <td>20</td>\n      <td>20</td>\n      <td>20</td>\n      <td>20</td>\n      <td>20</td>\n      <td>0</td>\n      <td>20</td>\n      <td>8</td>\n      <td>0</td>\n      <td>20</td>\n      <td>20</td>\n      <td>20</td>\n      <td>20</td>\n      <td>20</td>\n      <td>0</td>\n    </tr>\n    <tr>\n      <th>zdrowa żywność</th>\n      <td>8</td>\n      <td>8</td>\n      <td>8</td>\n      <td>0</td>\n      <td>8</td>\n      <td>6</td>\n      <td>0</td>\n      <td>8</td>\n      <td>6</td>\n      <td>0</td>\n      <td>8</td>\n      <td>8</td>\n      <td>8</td>\n      <td>8</td>\n      <td>8</td>\n      <td>0</td>\n    </tr>\n    <tr>\n      <th>spożywcze</th>\n      <td>6</td>\n      <td>6</td>\n      <td>6</td>\n      <td>4</td>\n      <td>6</td>\n      <td>6</td>\n      <td>0</td>\n      <td>6</td>\n      <td>4</td>\n      <td>2</td>\n      <td>6</td>\n      <td>6</td>\n      <td>2</td>\n      <td>6</td>\n      <td>6</td>\n      <td>4</td>\n    </tr>\n    <tr>\n      <th>artykuły spożywcze</th>\n      <td>3</td>\n      <td>0</td>\n      <td>2</td>\n      <td>0</td>\n      <td>3</td>\n      <td>3</td>\n      <td>0</td>\n      <td>3</td>\n      <td>0</td>\n      <td>0</td>\n      <td>3</td>\n      <td>3</td>\n      <td>3</td>\n      <td>3</td>\n      <td>3</td>\n      <td>0</td>\n    </tr>\n    <tr>\n      <th>artykuły przemysłowe</th>\n      <td>2</td>\n      <td>2</td>\n      <td>2</td>\n      <td>0</td>\n      <td>2</td>\n      <td>1</td>\n      <td>0</td>\n      <td>2</td>\n      <td>0</td>\n      <td>0</td>\n      <td>2</td>\n      <td>2</td>\n      <td>0</td>\n      <td>2</td>\n      <td>2</td>\n      <td>0</td>\n    </tr>\n    <tr>\n      <th>warzywniak</th>\n      <td>1</td>\n      <td>1</td>\n      <td>1</td>\n      <td>1</td>\n      <td>1</td>\n      <td>1</td>\n      <td>0</td>\n      <td>1</td>\n      <td>1</td>\n      <td>0</td>\n      <td>1</td>\n      <td>1</td>\n      <td>1</td>\n      <td>1</td>\n      <td>1</td>\n      <td>1</td>\n    </tr>\n  </tbody>\n</table>\n</div>"
     },
     "execution_count": 139,
     "metadata": {},
     "output_type": "execute_result"
    }
   ],
   "source": [
    "def map_prime_category(data, old_value, new_value):\n",
    "    data.at[df['main_category'] == old_value, 'main_category'] = new_value\n",
    "    return data\n",
    "\n",
    "df = map_prime_category(df, 'woda i napoje', 'napoje')\n",
    "df = map_prime_category(df, 'soki świeże i tłoczone', 'napoje')\n",
    "df = map_prime_category(df, 'środki czystości, chemia', 'chemia')\n",
    "df = map_prime_category(df, 'drogeria', 'chemia')\n",
    "df.groupby(by='main_category').count().sort_values(by='EAN', ascending=False)"
   ],
   "metadata": {
    "collapsed": false,
    "pycharm": {
     "name": "#%%\n"
    }
   }
  },
  {
   "cell_type": "markdown",
   "source": [
    "Select only \"napoje\" and \"chemia\""
   ],
   "metadata": {
    "collapsed": false,
    "pycharm": {
     "name": "#%% md\n"
    }
   }
  },
  {
   "cell_type": "code",
   "execution_count": 140,
   "outputs": [
    {
     "name": "stdout",
     "output_type": "stream",
     "text": [
      "Value counts\n"
     ]
    },
    {
     "data": {
      "text/plain": "                EAN  amount  brand  capacity  category  description  extras  \\\nmain_category                                                                 \nnapoje         3979    3939   3773      3332      3979         3732    1437   \nchemia         3910    3763   3613      1784      3910         3671       4   \n\n               image_url  ingredients  origin  price  seller  storage  title  \\\nmain_category                                                                  \nnapoje              3979         2514     405   3669    3979     2671   3979   \nchemia              3910         2630    1366   3909    3910     1867   3910   \n\n                url  weight  \nmain_category                \nnapoje         3979    1707  \nchemia         3910    2410  ",
      "text/html": "<div>\n<style scoped>\n    .dataframe tbody tr th:only-of-type {\n        vertical-align: middle;\n    }\n\n    .dataframe tbody tr th {\n        vertical-align: top;\n    }\n\n    .dataframe thead th {\n        text-align: right;\n    }\n</style>\n<table border=\"1\" class=\"dataframe\">\n  <thead>\n    <tr style=\"text-align: right;\">\n      <th></th>\n      <th>EAN</th>\n      <th>amount</th>\n      <th>brand</th>\n      <th>capacity</th>\n      <th>category</th>\n      <th>description</th>\n      <th>extras</th>\n      <th>image_url</th>\n      <th>ingredients</th>\n      <th>origin</th>\n      <th>price</th>\n      <th>seller</th>\n      <th>storage</th>\n      <th>title</th>\n      <th>url</th>\n      <th>weight</th>\n    </tr>\n    <tr>\n      <th>main_category</th>\n      <th></th>\n      <th></th>\n      <th></th>\n      <th></th>\n      <th></th>\n      <th></th>\n      <th></th>\n      <th></th>\n      <th></th>\n      <th></th>\n      <th></th>\n      <th></th>\n      <th></th>\n      <th></th>\n      <th></th>\n      <th></th>\n    </tr>\n  </thead>\n  <tbody>\n    <tr>\n      <th>napoje</th>\n      <td>3979</td>\n      <td>3939</td>\n      <td>3773</td>\n      <td>3332</td>\n      <td>3979</td>\n      <td>3732</td>\n      <td>1437</td>\n      <td>3979</td>\n      <td>2514</td>\n      <td>405</td>\n      <td>3669</td>\n      <td>3979</td>\n      <td>2671</td>\n      <td>3979</td>\n      <td>3979</td>\n      <td>1707</td>\n    </tr>\n    <tr>\n      <th>chemia</th>\n      <td>3910</td>\n      <td>3763</td>\n      <td>3613</td>\n      <td>1784</td>\n      <td>3910</td>\n      <td>3671</td>\n      <td>4</td>\n      <td>3910</td>\n      <td>2630</td>\n      <td>1366</td>\n      <td>3909</td>\n      <td>3910</td>\n      <td>1867</td>\n      <td>3910</td>\n      <td>3910</td>\n      <td>2410</td>\n    </tr>\n  </tbody>\n</table>\n</div>"
     },
     "execution_count": 140,
     "metadata": {},
     "output_type": "execute_result"
    }
   ],
   "source": [
    "df = df.loc[df['main_category'].isin(['napoje', 'chemia'])]\n",
    "print('Value counts')\n",
    "df.groupby(by='main_category').count().sort_values(by='EAN', ascending=False)"
   ],
   "metadata": {
    "collapsed": false,
    "pycharm": {
     "name": "#%%\n"
    }
   }
  },
  {
   "cell_type": "markdown",
   "source": [
    "Combination of EAN and seller must be unique.\n",
    "\n",
    "We want offers to be unique in every seller."
   ],
   "metadata": {
    "collapsed": false,
    "pycharm": {
     "name": "#%% md\n"
    }
   }
  },
  {
   "cell_type": "code",
   "execution_count": 141,
   "outputs": [
    {
     "name": "stdout",
     "output_type": "stream",
     "text": [
      "Unique\n"
     ]
    },
    {
     "data": {
      "text/plain": "main_category\nchemia    2700\nnapoje    2782\nName: EAN_seller, dtype: int64"
     },
     "execution_count": 141,
     "metadata": {},
     "output_type": "execute_result"
    }
   ],
   "source": [
    "df['EAN_seller'] = df['EAN'] + '_' + df['seller']\n",
    "print('Unique')\n",
    "df.groupby(by='main_category')['EAN_seller'].nunique()"
   ],
   "metadata": {
    "collapsed": false,
    "pycharm": {
     "name": "#%%\n"
    }
   }
  },
  {
   "cell_type": "code",
   "execution_count": 142,
   "outputs": [
    {
     "name": "stdout",
     "output_type": "stream",
     "text": [
      "Value counts\n"
     ]
    },
    {
     "data": {
      "text/plain": "                EAN  amount  brand  capacity  category  description  extras  \\\nmain_category                                                                 \nnapoje         2782    2742   2576      2145      2782         2535    1115   \nchemia         2700    2553   2403      1165      2700         2461       3   \n\n               image_url  ingredients  origin  price  seller  storage  title  \\\nmain_category                                                                  \nnapoje              2782         1760     318   2474    2782     1841   2782   \nchemia              2700         1873    1000   2699    2700     1323   2700   \n\n                url  weight  EAN_seller  \nmain_category                            \nnapoje         2782    1180        2782  \nchemia         2700    1480        2700  ",
      "text/html": "<div>\n<style scoped>\n    .dataframe tbody tr th:only-of-type {\n        vertical-align: middle;\n    }\n\n    .dataframe tbody tr th {\n        vertical-align: top;\n    }\n\n    .dataframe thead th {\n        text-align: right;\n    }\n</style>\n<table border=\"1\" class=\"dataframe\">\n  <thead>\n    <tr style=\"text-align: right;\">\n      <th></th>\n      <th>EAN</th>\n      <th>amount</th>\n      <th>brand</th>\n      <th>capacity</th>\n      <th>category</th>\n      <th>description</th>\n      <th>extras</th>\n      <th>image_url</th>\n      <th>ingredients</th>\n      <th>origin</th>\n      <th>price</th>\n      <th>seller</th>\n      <th>storage</th>\n      <th>title</th>\n      <th>url</th>\n      <th>weight</th>\n      <th>EAN_seller</th>\n    </tr>\n    <tr>\n      <th>main_category</th>\n      <th></th>\n      <th></th>\n      <th></th>\n      <th></th>\n      <th></th>\n      <th></th>\n      <th></th>\n      <th></th>\n      <th></th>\n      <th></th>\n      <th></th>\n      <th></th>\n      <th></th>\n      <th></th>\n      <th></th>\n      <th></th>\n      <th></th>\n    </tr>\n  </thead>\n  <tbody>\n    <tr>\n      <th>napoje</th>\n      <td>2782</td>\n      <td>2742</td>\n      <td>2576</td>\n      <td>2145</td>\n      <td>2782</td>\n      <td>2535</td>\n      <td>1115</td>\n      <td>2782</td>\n      <td>1760</td>\n      <td>318</td>\n      <td>2474</td>\n      <td>2782</td>\n      <td>1841</td>\n      <td>2782</td>\n      <td>2782</td>\n      <td>1180</td>\n      <td>2782</td>\n    </tr>\n    <tr>\n      <th>chemia</th>\n      <td>2700</td>\n      <td>2553</td>\n      <td>2403</td>\n      <td>1165</td>\n      <td>2700</td>\n      <td>2461</td>\n      <td>3</td>\n      <td>2700</td>\n      <td>1873</td>\n      <td>1000</td>\n      <td>2699</td>\n      <td>2700</td>\n      <td>1323</td>\n      <td>2700</td>\n      <td>2700</td>\n      <td>1480</td>\n      <td>2700</td>\n    </tr>\n  </tbody>\n</table>\n</div>"
     },
     "execution_count": 142,
     "metadata": {},
     "output_type": "execute_result"
    }
   ],
   "source": [
    "df = df.drop_duplicates(subset=['EAN_seller'])\n",
    "print('Value counts')\n",
    "df.groupby(by='main_category').count().sort_values(by='EAN', ascending=False)"
   ],
   "metadata": {
    "collapsed": false,
    "pycharm": {
     "name": "#%%\n"
    }
   }
  },
  {
   "cell_type": "code",
   "execution_count": 143,
   "outputs": [
    {
     "name": "stdout",
     "output_type": "stream",
     "text": [
      "Unique\n"
     ]
    },
    {
     "data": {
      "text/plain": "                EAN  amount  brand  capacity  category  description  extras  \\\nmain_category                                                                 \nchemia         1797     365    174       192      1218         1717       3   \nnapoje         2078     195    238       153       709         1668      94   \n\n               image_url  ingredients  origin  price  seller  storage  title  \\\nmain_category                                                                  \nchemia              2700          857      43    451       4      223   2305   \nnapoje              2782          892      26    454       4      327   1818   \n\n                url  weight  EAN_seller  \nmain_category                            \nchemia         2700     603        2700  \nnapoje         2782     303        2782  ",
      "text/html": "<div>\n<style scoped>\n    .dataframe tbody tr th:only-of-type {\n        vertical-align: middle;\n    }\n\n    .dataframe tbody tr th {\n        vertical-align: top;\n    }\n\n    .dataframe thead th {\n        text-align: right;\n    }\n</style>\n<table border=\"1\" class=\"dataframe\">\n  <thead>\n    <tr style=\"text-align: right;\">\n      <th></th>\n      <th>EAN</th>\n      <th>amount</th>\n      <th>brand</th>\n      <th>capacity</th>\n      <th>category</th>\n      <th>description</th>\n      <th>extras</th>\n      <th>image_url</th>\n      <th>ingredients</th>\n      <th>origin</th>\n      <th>price</th>\n      <th>seller</th>\n      <th>storage</th>\n      <th>title</th>\n      <th>url</th>\n      <th>weight</th>\n      <th>EAN_seller</th>\n    </tr>\n    <tr>\n      <th>main_category</th>\n      <th></th>\n      <th></th>\n      <th></th>\n      <th></th>\n      <th></th>\n      <th></th>\n      <th></th>\n      <th></th>\n      <th></th>\n      <th></th>\n      <th></th>\n      <th></th>\n      <th></th>\n      <th></th>\n      <th></th>\n      <th></th>\n      <th></th>\n    </tr>\n  </thead>\n  <tbody>\n    <tr>\n      <th>chemia</th>\n      <td>1797</td>\n      <td>365</td>\n      <td>174</td>\n      <td>192</td>\n      <td>1218</td>\n      <td>1717</td>\n      <td>3</td>\n      <td>2700</td>\n      <td>857</td>\n      <td>43</td>\n      <td>451</td>\n      <td>4</td>\n      <td>223</td>\n      <td>2305</td>\n      <td>2700</td>\n      <td>603</td>\n      <td>2700</td>\n    </tr>\n    <tr>\n      <th>napoje</th>\n      <td>2078</td>\n      <td>195</td>\n      <td>238</td>\n      <td>153</td>\n      <td>709</td>\n      <td>1668</td>\n      <td>94</td>\n      <td>2782</td>\n      <td>892</td>\n      <td>26</td>\n      <td>454</td>\n      <td>4</td>\n      <td>327</td>\n      <td>1818</td>\n      <td>2782</td>\n      <td>303</td>\n      <td>2782</td>\n    </tr>\n  </tbody>\n</table>\n</div>"
     },
     "execution_count": 143,
     "metadata": {},
     "output_type": "execute_result"
    }
   ],
   "source": [
    "print('Unique')\n",
    "df.groupby(by='main_category').nunique()"
   ],
   "metadata": {
    "collapsed": false,
    "pycharm": {
     "name": "#%%\n"
    }
   }
  },
  {
   "cell_type": "code",
   "execution_count": 144,
   "outputs": [],
   "source": [
    "df = df.drop('EAN_seller', axis=1)"
   ],
   "metadata": {
    "collapsed": false,
    "pycharm": {
     "name": "#%%\n"
    }
   }
  },
  {
   "cell_type": "markdown",
   "source": [
    "Select products which are present in more than one shop"
   ],
   "metadata": {
    "collapsed": false,
    "pycharm": {
     "name": "#%% md\n"
    }
   }
  },
  {
   "cell_type": "code",
   "execution_count": 145,
   "outputs": [
    {
     "data": {
      "text/plain": "1    2639\n2     865\n3     371\nName: EAN, dtype: int64"
     },
     "execution_count": 145,
     "metadata": {},
     "output_type": "execute_result"
    }
   ],
   "source": [
    "ean_counts = df['EAN'].value_counts()\n",
    "ean_counts.value_counts()"
   ],
   "metadata": {
    "collapsed": false,
    "pycharm": {
     "name": "#%%\n"
    }
   }
  },
  {
   "cell_type": "code",
   "execution_count": 149,
   "outputs": [
    {
     "name": "stdout",
     "output_type": "stream",
     "text": [
      "Value counts\n"
     ]
    },
    {
     "data": {
      "text/plain": "                EAN  amount  brand  capacity  category  description  extras  \\\nmain_category                                                                 \nchemia         1586    1471   1393       720      1586         1447       3   \nnapoje         1257    1229   1122       839      1257         1096     476   \n\n               image_url  ingredients  origin  price  seller  storage  title  \\\nmain_category                                                                  \nchemia              1586         1283     695   1585    1586      840   1586   \nnapoje              1257          948     150   1255    1257      939   1257   \n\n                url  weight  \nmain_category                \nchemia         1586     794  \nnapoje         1257     671  ",
      "text/html": "<div>\n<style scoped>\n    .dataframe tbody tr th:only-of-type {\n        vertical-align: middle;\n    }\n\n    .dataframe tbody tr th {\n        vertical-align: top;\n    }\n\n    .dataframe thead th {\n        text-align: right;\n    }\n</style>\n<table border=\"1\" class=\"dataframe\">\n  <thead>\n    <tr style=\"text-align: right;\">\n      <th></th>\n      <th>EAN</th>\n      <th>amount</th>\n      <th>brand</th>\n      <th>capacity</th>\n      <th>category</th>\n      <th>description</th>\n      <th>extras</th>\n      <th>image_url</th>\n      <th>ingredients</th>\n      <th>origin</th>\n      <th>price</th>\n      <th>seller</th>\n      <th>storage</th>\n      <th>title</th>\n      <th>url</th>\n      <th>weight</th>\n    </tr>\n    <tr>\n      <th>main_category</th>\n      <th></th>\n      <th></th>\n      <th></th>\n      <th></th>\n      <th></th>\n      <th></th>\n      <th></th>\n      <th></th>\n      <th></th>\n      <th></th>\n      <th></th>\n      <th></th>\n      <th></th>\n      <th></th>\n      <th></th>\n      <th></th>\n    </tr>\n  </thead>\n  <tbody>\n    <tr>\n      <th>chemia</th>\n      <td>1586</td>\n      <td>1471</td>\n      <td>1393</td>\n      <td>720</td>\n      <td>1586</td>\n      <td>1447</td>\n      <td>3</td>\n      <td>1586</td>\n      <td>1283</td>\n      <td>695</td>\n      <td>1585</td>\n      <td>1586</td>\n      <td>840</td>\n      <td>1586</td>\n      <td>1586</td>\n      <td>794</td>\n    </tr>\n    <tr>\n      <th>napoje</th>\n      <td>1257</td>\n      <td>1229</td>\n      <td>1122</td>\n      <td>839</td>\n      <td>1257</td>\n      <td>1096</td>\n      <td>476</td>\n      <td>1257</td>\n      <td>948</td>\n      <td>150</td>\n      <td>1255</td>\n      <td>1257</td>\n      <td>939</td>\n      <td>1257</td>\n      <td>1257</td>\n      <td>671</td>\n    </tr>\n  </tbody>\n</table>\n</div>"
     },
     "execution_count": 149,
     "metadata": {},
     "output_type": "execute_result"
    }
   ],
   "source": [
    "df = df[df['EAN'].isin(ean_counts[ean_counts > 1].index)]\n",
    "print('Value counts')\n",
    "df.groupby(by='main_category').count().sort_values(by='EAN', ascending=False)"
   ],
   "metadata": {
    "collapsed": false,
    "pycharm": {
     "name": "#%%\n"
    }
   }
  },
  {
   "cell_type": "code",
   "execution_count": 150,
   "outputs": [
    {
     "name": "stdout",
     "output_type": "stream",
     "text": [
      "Unique\n"
     ]
    },
    {
     "data": {
      "text/plain": "               EAN  amount  brand  capacity  category  description  extras  \\\nmain_category                                                                \nchemia         683     240    125       130       546          893       3   \nnapoje         553      90    128        64       339          870      58   \n\n               image_url  ingredients  origin  price  seller  storage  title  \\\nmain_category                                                                  \nchemia              1586          496      32    316       4      128   1240   \nnapoje              1257          447      15    242       3      184    863   \n\n                url  weight  \nmain_category                \nchemia         1586     350  \nnapoje         1257     203  ",
      "text/html": "<div>\n<style scoped>\n    .dataframe tbody tr th:only-of-type {\n        vertical-align: middle;\n    }\n\n    .dataframe tbody tr th {\n        vertical-align: top;\n    }\n\n    .dataframe thead th {\n        text-align: right;\n    }\n</style>\n<table border=\"1\" class=\"dataframe\">\n  <thead>\n    <tr style=\"text-align: right;\">\n      <th></th>\n      <th>EAN</th>\n      <th>amount</th>\n      <th>brand</th>\n      <th>capacity</th>\n      <th>category</th>\n      <th>description</th>\n      <th>extras</th>\n      <th>image_url</th>\n      <th>ingredients</th>\n      <th>origin</th>\n      <th>price</th>\n      <th>seller</th>\n      <th>storage</th>\n      <th>title</th>\n      <th>url</th>\n      <th>weight</th>\n    </tr>\n    <tr>\n      <th>main_category</th>\n      <th></th>\n      <th></th>\n      <th></th>\n      <th></th>\n      <th></th>\n      <th></th>\n      <th></th>\n      <th></th>\n      <th></th>\n      <th></th>\n      <th></th>\n      <th></th>\n      <th></th>\n      <th></th>\n      <th></th>\n      <th></th>\n    </tr>\n  </thead>\n  <tbody>\n    <tr>\n      <th>chemia</th>\n      <td>683</td>\n      <td>240</td>\n      <td>125</td>\n      <td>130</td>\n      <td>546</td>\n      <td>893</td>\n      <td>3</td>\n      <td>1586</td>\n      <td>496</td>\n      <td>32</td>\n      <td>316</td>\n      <td>4</td>\n      <td>128</td>\n      <td>1240</td>\n      <td>1586</td>\n      <td>350</td>\n    </tr>\n    <tr>\n      <th>napoje</th>\n      <td>553</td>\n      <td>90</td>\n      <td>128</td>\n      <td>64</td>\n      <td>339</td>\n      <td>870</td>\n      <td>58</td>\n      <td>1257</td>\n      <td>447</td>\n      <td>15</td>\n      <td>242</td>\n      <td>3</td>\n      <td>184</td>\n      <td>863</td>\n      <td>1257</td>\n      <td>203</td>\n    </tr>\n  </tbody>\n</table>\n</div>"
     },
     "execution_count": 150,
     "metadata": {},
     "output_type": "execute_result"
    }
   ],
   "source": [
    "print('Unique')\n",
    "df.groupby(by='main_category').nunique()"
   ],
   "metadata": {
    "collapsed": false,
    "pycharm": {
     "name": "#%%\n"
    }
   }
  },
  {
   "cell_type": "code",
   "execution_count": null,
   "outputs": [],
   "source": [],
   "metadata": {
    "collapsed": false,
    "pycharm": {
     "name": "#%%\n"
    }
   }
  }
 ],
 "metadata": {
  "kernelspec": {
   "display_name": "Python 3",
   "language": "python",
   "name": "python3"
  },
  "language_info": {
   "codemirror_mode": {
    "name": "ipython",
    "version": 2
   },
   "file_extension": ".py",
   "mimetype": "text/x-python",
   "name": "python",
   "nbconvert_exporter": "python",
   "pygments_lexer": "ipython2",
   "version": "2.7.6"
  }
 },
 "nbformat": 4,
 "nbformat_minor": 0
}