{
 "cells": [
  {
   "cell_type": "markdown",
   "source": [
    "# Analysis of raw dataset"
   ],
   "metadata": {
    "collapsed": false,
    "pycharm": {
     "name": "#%% md\n"
    }
   }
  },
  {
   "cell_type": "code",
   "execution_count": 262,
   "metadata": {
    "collapsed": true
   },
   "outputs": [],
   "source": [
    "import pandas as pd\n",
    "import seaborn as sns\n",
    "sns.set_style(\"whitegrid\")"
   ]
  },
  {
   "cell_type": "code",
   "execution_count": 263,
   "outputs": [
    {
     "data": {
      "text/plain": "Index(['EAN', 'amount', 'brand', 'capacity', 'category', 'description',\n       'extras', 'image_url', 'ingredients', 'origin', 'price', 'seller',\n       'storage', 'title', 'url', 'weight'],\n      dtype='object')"
     },
     "execution_count": 263,
     "metadata": {},
     "output_type": "execute_result"
    }
   ],
   "source": [
    "df = pd.read_csv('raw_data.csv').drop(columns=['Unnamed: 0'])\n",
    "df.keys()"
   ],
   "metadata": {
    "collapsed": false,
    "pycharm": {
     "name": "#%%\n"
    }
   }
  },
  {
   "cell_type": "code",
   "execution_count": 264,
   "outputs": [
    {
     "data": {
      "text/plain": "EAN            object\namount         object\nbrand          object\ncapacity       object\ncategory       object\ndescription    object\nextras         object\nimage_url      object\ningredients    object\norigin         object\nprice          object\nseller         object\nstorage        object\ntitle          object\nurl            object\nweight         object\ndtype: object"
     },
     "execution_count": 264,
     "metadata": {},
     "output_type": "execute_result"
    }
   ],
   "source": [
    "df.dtypes"
   ],
   "metadata": {
    "collapsed": false,
    "pycharm": {
     "name": "#%%\n"
    }
   }
  },
  {
   "cell_type": "code",
   "execution_count": 265,
   "outputs": [
    {
     "data": {
      "text/plain": "                EAN  amount         brand capacity  \\\n5787  5907637328574   499 g          ECO+      NaN   \n5411  5449000087775  3.00 L         Fanta      NaN   \n7890  5060466512665  250 ml           NaN   250 ml   \n2017  5900541007900     9 l  ŻYWIEC ZDRÓJ      9 l   \n7645  5901886010198     2 l        Garden      2 l   \n\n                                               category  \\\n5787  DROGERIA > ŚRODKI DO CZYSZCZENIA > PROSZKI DO ...   \n5411                    WODA I NAPOJE > NAPOJE GAZOWANE   \n7890                       Napoje > Napoje energetyczne   \n2017  Napoje > Niegazowane > Owocowe > Z owoców cytr...   \n7645                        Napoje > Napoje niegazowane   \n\n                                            description  \\\n5787                                                NaN   \n5411                                                NaN   \n7890  Burn Apple Kiwi Gazowany napój energetyczny 25...   \n2017  ŻYWIEC ZDRÓJ Z NUTĄ Mięty i Limonki\\n\\nPołącze...   \n7645  Garden Napój jabłko 2 l FSC - www.fsc.org, Mie...   \n\n                                                 extras  \\\n5787                                                NaN   \n5411                           konserwanty: Nie zawiera   \n7890                                                NaN   \n2017                                                NaN   \n7645  konserwanty - Nie zawiera\\nSubstancje słodzące...   \n\n                                              image_url  \\\n5787  https://leclercdrive.lublin.pl/154187-large_de...   \n5411  https://leclercdrive.lublin.pl/113458-large_de...   \n7890  https://www.leclerc.rzeszow.pl/resize.php?pic=...   \n2017       https://www.frisco.pl/pid,112620/stn,product   \n7645  https://www.leclerc.rzeszow.pl/resize.php?pic=...   \n\n                                            ingredients origin    price  \\\n5787  Skład: <5% anionowe środki powierzchniowo czyn...    NaN  1,69 zł   \n5411  woda\\r\\ncukier\\r\\nsok pomarańczowy (5%) z soku...    NaN  9,59 zł   \n7890  woda\\ncukier\\ndwutlenek węgla\\nkwas: kwas cytr...     UE     2.89   \n2017  woda źródlana 97 %, cukier, regulator kwasowoś...    NaN    26.94   \n7645  naturalna woda mineralna\\nsok jabłkowy z zagęs...    NaN     3.69   \n\n               seller                                            storage  \\\n5787   Leclerc lublin  Przechowywać w szczelnie zamkniętych oryginaln...   \n5411   Leclerc lublin  Zawartość soku może powodować powstawanie natu...   \n7890  Leclerc Rzeszów                                                NaN   \n2017           Frisco             Przechowywać w temperaturze otoczenia.   \n7645  Leclerc Rzeszów  Po otwarciu przechowywać w lodówce nie dłużej ...   \n\n                                                  title  \\\n5787                             Proszek do czyszczenia   \n5411        Fanta Pomarańczowa Napój gazowany 2 x 1,5 l   \n7890  Burn Apple Kiwi Gazowany napój energetyczny 25...   \n2017                ŻYWIEC ZDRÓJ Z NUTĄ Mięty i Limonki   \n7645                            Garden Napój jabłko 2 l   \n\n                                                    url             weight  \n5787  https://leclercdrive.lublin.pl/proszki-do-czys...                NaN  \n5411  https://leclercdrive.lublin.pl/napoje-gazowane...                NaN  \n7890  https://www.leclerc.rzeszow.pl/burn-apple-kiwi...  Waga netto 250 ml  \n2017       https://www.frisco.pl/pid,112620/stn,product                NaN  \n7645  https://www.leclerc.rzeszow.pl/garden-napoj-ja...     Waga netto 2 l  ",
      "text/html": "<div>\n<style scoped>\n    .dataframe tbody tr th:only-of-type {\n        vertical-align: middle;\n    }\n\n    .dataframe tbody tr th {\n        vertical-align: top;\n    }\n\n    .dataframe thead th {\n        text-align: right;\n    }\n</style>\n<table border=\"1\" class=\"dataframe\">\n  <thead>\n    <tr style=\"text-align: right;\">\n      <th></th>\n      <th>EAN</th>\n      <th>amount</th>\n      <th>brand</th>\n      <th>capacity</th>\n      <th>category</th>\n      <th>description</th>\n      <th>extras</th>\n      <th>image_url</th>\n      <th>ingredients</th>\n      <th>origin</th>\n      <th>price</th>\n      <th>seller</th>\n      <th>storage</th>\n      <th>title</th>\n      <th>url</th>\n      <th>weight</th>\n    </tr>\n  </thead>\n  <tbody>\n    <tr>\n      <th>5787</th>\n      <td>5907637328574</td>\n      <td>499 g</td>\n      <td>ECO+</td>\n      <td>NaN</td>\n      <td>DROGERIA &gt; ŚRODKI DO CZYSZCZENIA &gt; PROSZKI DO ...</td>\n      <td>NaN</td>\n      <td>NaN</td>\n      <td>https://leclercdrive.lublin.pl/154187-large_de...</td>\n      <td>Skład: &lt;5% anionowe środki powierzchniowo czyn...</td>\n      <td>NaN</td>\n      <td>1,69 zł</td>\n      <td>Leclerc lublin</td>\n      <td>Przechowywać w szczelnie zamkniętych oryginaln...</td>\n      <td>Proszek do czyszczenia</td>\n      <td>https://leclercdrive.lublin.pl/proszki-do-czys...</td>\n      <td>NaN</td>\n    </tr>\n    <tr>\n      <th>5411</th>\n      <td>5449000087775</td>\n      <td>3.00 L</td>\n      <td>Fanta</td>\n      <td>NaN</td>\n      <td>WODA I NAPOJE &gt; NAPOJE GAZOWANE</td>\n      <td>NaN</td>\n      <td>konserwanty: Nie zawiera</td>\n      <td>https://leclercdrive.lublin.pl/113458-large_de...</td>\n      <td>woda\\r\\ncukier\\r\\nsok pomarańczowy (5%) z soku...</td>\n      <td>NaN</td>\n      <td>9,59 zł</td>\n      <td>Leclerc lublin</td>\n      <td>Zawartość soku może powodować powstawanie natu...</td>\n      <td>Fanta Pomarańczowa Napój gazowany 2 x 1,5 l</td>\n      <td>https://leclercdrive.lublin.pl/napoje-gazowane...</td>\n      <td>NaN</td>\n    </tr>\n    <tr>\n      <th>7890</th>\n      <td>5060466512665</td>\n      <td>250 ml</td>\n      <td>NaN</td>\n      <td>250 ml</td>\n      <td>Napoje &gt; Napoje energetyczne</td>\n      <td>Burn Apple Kiwi Gazowany napój energetyczny 25...</td>\n      <td>NaN</td>\n      <td>https://www.leclerc.rzeszow.pl/resize.php?pic=...</td>\n      <td>woda\\ncukier\\ndwutlenek węgla\\nkwas: kwas cytr...</td>\n      <td>UE</td>\n      <td>2.89</td>\n      <td>Leclerc Rzeszów</td>\n      <td>NaN</td>\n      <td>Burn Apple Kiwi Gazowany napój energetyczny 25...</td>\n      <td>https://www.leclerc.rzeszow.pl/burn-apple-kiwi...</td>\n      <td>Waga netto 250 ml</td>\n    </tr>\n    <tr>\n      <th>2017</th>\n      <td>5900541007900</td>\n      <td>9 l</td>\n      <td>ŻYWIEC ZDRÓJ</td>\n      <td>9 l</td>\n      <td>Napoje &gt; Niegazowane &gt; Owocowe &gt; Z owoców cytr...</td>\n      <td>ŻYWIEC ZDRÓJ Z NUTĄ Mięty i Limonki\\n\\nPołącze...</td>\n      <td>NaN</td>\n      <td>https://www.frisco.pl/pid,112620/stn,product</td>\n      <td>woda źródlana 97 %, cukier, regulator kwasowoś...</td>\n      <td>NaN</td>\n      <td>26.94</td>\n      <td>Frisco</td>\n      <td>Przechowywać w temperaturze otoczenia.</td>\n      <td>ŻYWIEC ZDRÓJ Z NUTĄ Mięty i Limonki</td>\n      <td>https://www.frisco.pl/pid,112620/stn,product</td>\n      <td>NaN</td>\n    </tr>\n    <tr>\n      <th>7645</th>\n      <td>5901886010198</td>\n      <td>2 l</td>\n      <td>Garden</td>\n      <td>2 l</td>\n      <td>Napoje &gt; Napoje niegazowane</td>\n      <td>Garden Napój jabłko 2 l FSC - www.fsc.org, Mie...</td>\n      <td>konserwanty - Nie zawiera\\nSubstancje słodzące...</td>\n      <td>https://www.leclerc.rzeszow.pl/resize.php?pic=...</td>\n      <td>naturalna woda mineralna\\nsok jabłkowy z zagęs...</td>\n      <td>NaN</td>\n      <td>3.69</td>\n      <td>Leclerc Rzeszów</td>\n      <td>Po otwarciu przechowywać w lodówce nie dłużej ...</td>\n      <td>Garden Napój jabłko 2 l</td>\n      <td>https://www.leclerc.rzeszow.pl/garden-napoj-ja...</td>\n      <td>Waga netto 2 l</td>\n    </tr>\n  </tbody>\n</table>\n</div>"
     },
     "execution_count": 265,
     "metadata": {},
     "output_type": "execute_result"
    }
   ],
   "source": [
    "df = df.sample(frac=1) # shuffle data\n",
    "df.head()"
   ],
   "metadata": {
    "collapsed": false,
    "pycharm": {
     "name": "#%%\n"
    }
   }
  },
  {
   "cell_type": "markdown",
   "source": [
    "## Data cleaning\n",
    "Drop corupted data from swiadome zakupy"
   ],
   "metadata": {
    "collapsed": false,
    "pycharm": {
     "name": "#%% md\n"
    }
   }
  },
  {
   "cell_type": "code",
   "execution_count": 266,
   "outputs": [],
   "source": [
    "df = df[df['seller'] != '']"
   ],
   "metadata": {
    "collapsed": false,
    "pycharm": {
     "name": "#%%\n"
    }
   }
  },
  {
   "cell_type": "markdown",
   "source": [
    "Choose records with EAN and title available"
   ],
   "metadata": {
    "collapsed": false,
    "pycharm": {
     "name": "#%% md\n"
    }
   }
  },
  {
   "cell_type": "code",
   "execution_count": 267,
   "outputs": [],
   "source": [
    "df = df.dropna(subset=['EAN', 'title'], how='any')"
   ],
   "metadata": {
    "collapsed": false,
    "pycharm": {
     "name": "#%%\n"
    }
   }
  },
  {
   "cell_type": "markdown",
   "source": [
    "Drop unknown sellers"
   ],
   "metadata": {
    "collapsed": false,
    "pycharm": {
     "name": "#%% md\n"
    }
   }
  },
  {
   "cell_type": "code",
   "source": [
    "df['seller'].unique()\n",
    "df = df[df['seller'] != '7.19']"
   ],
   "metadata": {
    "collapsed": false,
    "pycharm": {
     "name": "#%%\n"
    }
   },
   "execution_count": 268,
   "outputs": []
  },
  {
   "cell_type": "markdown",
   "source": [
    "Extract the main category from category tree."
   ],
   "metadata": {
    "collapsed": false,
    "pycharm": {
     "name": "#%% md\n"
    }
   }
  },
  {
   "cell_type": "code",
   "execution_count": 269,
   "outputs": [
    {
     "data": {
      "text/plain": "                   0                                                  1\n5787       DROGERIA      ŚRODKI DO CZYSZCZENIA > PROSZKI DO CZYSZCZENIA\n5411  WODA I NAPOJE                                     NAPOJE GAZOWANE\n7890         Napoje                                 Napoje energetyczne\n2017         Napoje    Niegazowane > Owocowe > Z owoców cytrusowych ...\n7645         Napoje                                  Napoje niegazowane",
      "text/html": "<div>\n<style scoped>\n    .dataframe tbody tr th:only-of-type {\n        vertical-align: middle;\n    }\n\n    .dataframe tbody tr th {\n        vertical-align: top;\n    }\n\n    .dataframe thead th {\n        text-align: right;\n    }\n</style>\n<table border=\"1\" class=\"dataframe\">\n  <thead>\n    <tr style=\"text-align: right;\">\n      <th></th>\n      <th>0</th>\n      <th>1</th>\n    </tr>\n  </thead>\n  <tbody>\n    <tr>\n      <th>5787</th>\n      <td>DROGERIA</td>\n      <td>ŚRODKI DO CZYSZCZENIA &gt; PROSZKI DO CZYSZCZENIA</td>\n    </tr>\n    <tr>\n      <th>5411</th>\n      <td>WODA I NAPOJE</td>\n      <td>NAPOJE GAZOWANE</td>\n    </tr>\n    <tr>\n      <th>7890</th>\n      <td>Napoje</td>\n      <td>Napoje energetyczne</td>\n    </tr>\n    <tr>\n      <th>2017</th>\n      <td>Napoje</td>\n      <td>Niegazowane &gt; Owocowe &gt; Z owoców cytrusowych ...</td>\n    </tr>\n    <tr>\n      <th>7645</th>\n      <td>Napoje</td>\n      <td>Napoje niegazowane</td>\n    </tr>\n  </tbody>\n</table>\n</div>"
     },
     "execution_count": 269,
     "metadata": {},
     "output_type": "execute_result"
    }
   ],
   "source": [
    "categories = df['category'].str.split('>', n=1, expand=True)\n",
    "categories.head()"
   ],
   "metadata": {
    "collapsed": false,
    "pycharm": {
     "name": "#%%\n"
    }
   }
  },
  {
   "cell_type": "code",
   "execution_count": 270,
   "outputs": [
    {
     "data": {
      "text/plain": "                           EAN  amount  brand  capacity  category  \\\nmain_category                                                       \nnapoje                    3353    3319   3165      3295      3353   \nśrodki czystości, chemia  2430    2430   2430      1241      2430   \ndrogeria                   791     790    774         0       791   \nchemia                     688     542    408       542       688   \nwoda i napoje              586     583    574         0       586   \nalkohol                    323     254    154       319       323   \nbio                         86      86     86        64        86   \nsoki świeże i tłoczone      40      37     34        37        40   \nmama i dziecko              24      24     24         6        24   \nstrefa roślinna             20      20     20        20        20   \nzdrowa żywność               8       8      8         0         8   \nspożywcze                    6       6      6         4         6   \nartykuły spożywcze           3       0      2         0         3   \nartykuły przemysłowe         2       2      2         0         2   \nwarzywniak                   1       1      1         1         1   \n\n                          description  extras  image_url  ingredients  origin  \\\nmain_category                                                                   \nnapoje                           3353    1222       3353         2037     255   \nśrodki czystości, chemia         2430       2       2430         1522     735   \ndrogeria                          556       1        791          630     320   \nchemia                            684       1        688          477     310   \nwoda i napoje                     339     209        586          467     150   \nalkohol                           277     222        316           37      43   \nbio                                86       0         86           30      12   \nsoki świeże i tłoczone             40       6         40           10       0   \nmama i dziecko                     24       4         24           18       4   \nstrefa roślinna                    20       0         20            8       0   \nzdrowa żywność                      6       0          8            6       0   \nspożywcze                           6       0          6            4       2   \nartykuły spożywcze                  3       0          3            0       0   \nartykuły przemysłowe                1       0          2            0       0   \nwarzywniak                          1       0          1            1       0   \n\n                          price  seller  storage  title   url  weight  \nmain_category                                                          \nnapoje                     3045    3353     2062   3353  3353    1670  \nśrodki czystości, chemia   2430    2430     1096   2430  2430    1867  \ndrogeria                    791     791      418    791   791       0  \nchemia                      688     688      352    688   688     542  \nwoda i napoje               584     586      575    586   586       0  \nalkohol                     168     315       30    323   316     115  \nbio                          86      86       29     86    86      26  \nsoki świeże i tłoczone       40      40       34     40    40      37  \nmama i dziecko               24      24       10     24    24      18  \nstrefa roślinna              20      20       20     20    20       0  \nzdrowa żywność                8       8        8      8     8       0  \nspożywcze                     6       6        2      6     6       4  \nartykuły spożywcze            3       3        3      3     3       0  \nartykuły przemysłowe          2       2        0      2     2       0  \nwarzywniak                    1       1        1      1     1       1  ",
      "text/html": "<div>\n<style scoped>\n    .dataframe tbody tr th:only-of-type {\n        vertical-align: middle;\n    }\n\n    .dataframe tbody tr th {\n        vertical-align: top;\n    }\n\n    .dataframe thead th {\n        text-align: right;\n    }\n</style>\n<table border=\"1\" class=\"dataframe\">\n  <thead>\n    <tr style=\"text-align: right;\">\n      <th></th>\n      <th>EAN</th>\n      <th>amount</th>\n      <th>brand</th>\n      <th>capacity</th>\n      <th>category</th>\n      <th>description</th>\n      <th>extras</th>\n      <th>image_url</th>\n      <th>ingredients</th>\n      <th>origin</th>\n      <th>price</th>\n      <th>seller</th>\n      <th>storage</th>\n      <th>title</th>\n      <th>url</th>\n      <th>weight</th>\n    </tr>\n    <tr>\n      <th>main_category</th>\n      <th></th>\n      <th></th>\n      <th></th>\n      <th></th>\n      <th></th>\n      <th></th>\n      <th></th>\n      <th></th>\n      <th></th>\n      <th></th>\n      <th></th>\n      <th></th>\n      <th></th>\n      <th></th>\n      <th></th>\n      <th></th>\n    </tr>\n  </thead>\n  <tbody>\n    <tr>\n      <th>napoje</th>\n      <td>3353</td>\n      <td>3319</td>\n      <td>3165</td>\n      <td>3295</td>\n      <td>3353</td>\n      <td>3353</td>\n      <td>1222</td>\n      <td>3353</td>\n      <td>2037</td>\n      <td>255</td>\n      <td>3045</td>\n      <td>3353</td>\n      <td>2062</td>\n      <td>3353</td>\n      <td>3353</td>\n      <td>1670</td>\n    </tr>\n    <tr>\n      <th>środki czystości, chemia</th>\n      <td>2430</td>\n      <td>2430</td>\n      <td>2430</td>\n      <td>1241</td>\n      <td>2430</td>\n      <td>2430</td>\n      <td>2</td>\n      <td>2430</td>\n      <td>1522</td>\n      <td>735</td>\n      <td>2430</td>\n      <td>2430</td>\n      <td>1096</td>\n      <td>2430</td>\n      <td>2430</td>\n      <td>1867</td>\n    </tr>\n    <tr>\n      <th>drogeria</th>\n      <td>791</td>\n      <td>790</td>\n      <td>774</td>\n      <td>0</td>\n      <td>791</td>\n      <td>556</td>\n      <td>1</td>\n      <td>791</td>\n      <td>630</td>\n      <td>320</td>\n      <td>791</td>\n      <td>791</td>\n      <td>418</td>\n      <td>791</td>\n      <td>791</td>\n      <td>0</td>\n    </tr>\n    <tr>\n      <th>chemia</th>\n      <td>688</td>\n      <td>542</td>\n      <td>408</td>\n      <td>542</td>\n      <td>688</td>\n      <td>684</td>\n      <td>1</td>\n      <td>688</td>\n      <td>477</td>\n      <td>310</td>\n      <td>688</td>\n      <td>688</td>\n      <td>352</td>\n      <td>688</td>\n      <td>688</td>\n      <td>542</td>\n    </tr>\n    <tr>\n      <th>woda i napoje</th>\n      <td>586</td>\n      <td>583</td>\n      <td>574</td>\n      <td>0</td>\n      <td>586</td>\n      <td>339</td>\n      <td>209</td>\n      <td>586</td>\n      <td>467</td>\n      <td>150</td>\n      <td>584</td>\n      <td>586</td>\n      <td>575</td>\n      <td>586</td>\n      <td>586</td>\n      <td>0</td>\n    </tr>\n    <tr>\n      <th>alkohol</th>\n      <td>323</td>\n      <td>254</td>\n      <td>154</td>\n      <td>319</td>\n      <td>323</td>\n      <td>277</td>\n      <td>222</td>\n      <td>316</td>\n      <td>37</td>\n      <td>43</td>\n      <td>168</td>\n      <td>315</td>\n      <td>30</td>\n      <td>323</td>\n      <td>316</td>\n      <td>115</td>\n    </tr>\n    <tr>\n      <th>bio</th>\n      <td>86</td>\n      <td>86</td>\n      <td>86</td>\n      <td>64</td>\n      <td>86</td>\n      <td>86</td>\n      <td>0</td>\n      <td>86</td>\n      <td>30</td>\n      <td>12</td>\n      <td>86</td>\n      <td>86</td>\n      <td>29</td>\n      <td>86</td>\n      <td>86</td>\n      <td>26</td>\n    </tr>\n    <tr>\n      <th>soki świeże i tłoczone</th>\n      <td>40</td>\n      <td>37</td>\n      <td>34</td>\n      <td>37</td>\n      <td>40</td>\n      <td>40</td>\n      <td>6</td>\n      <td>40</td>\n      <td>10</td>\n      <td>0</td>\n      <td>40</td>\n      <td>40</td>\n      <td>34</td>\n      <td>40</td>\n      <td>40</td>\n      <td>37</td>\n    </tr>\n    <tr>\n      <th>mama i dziecko</th>\n      <td>24</td>\n      <td>24</td>\n      <td>24</td>\n      <td>6</td>\n      <td>24</td>\n      <td>24</td>\n      <td>4</td>\n      <td>24</td>\n      <td>18</td>\n      <td>4</td>\n      <td>24</td>\n      <td>24</td>\n      <td>10</td>\n      <td>24</td>\n      <td>24</td>\n      <td>18</td>\n    </tr>\n    <tr>\n      <th>strefa roślinna</th>\n      <td>20</td>\n      <td>20</td>\n      <td>20</td>\n      <td>20</td>\n      <td>20</td>\n      <td>20</td>\n      <td>0</td>\n      <td>20</td>\n      <td>8</td>\n      <td>0</td>\n      <td>20</td>\n      <td>20</td>\n      <td>20</td>\n      <td>20</td>\n      <td>20</td>\n      <td>0</td>\n    </tr>\n    <tr>\n      <th>zdrowa żywność</th>\n      <td>8</td>\n      <td>8</td>\n      <td>8</td>\n      <td>0</td>\n      <td>8</td>\n      <td>6</td>\n      <td>0</td>\n      <td>8</td>\n      <td>6</td>\n      <td>0</td>\n      <td>8</td>\n      <td>8</td>\n      <td>8</td>\n      <td>8</td>\n      <td>8</td>\n      <td>0</td>\n    </tr>\n    <tr>\n      <th>spożywcze</th>\n      <td>6</td>\n      <td>6</td>\n      <td>6</td>\n      <td>4</td>\n      <td>6</td>\n      <td>6</td>\n      <td>0</td>\n      <td>6</td>\n      <td>4</td>\n      <td>2</td>\n      <td>6</td>\n      <td>6</td>\n      <td>2</td>\n      <td>6</td>\n      <td>6</td>\n      <td>4</td>\n    </tr>\n    <tr>\n      <th>artykuły spożywcze</th>\n      <td>3</td>\n      <td>0</td>\n      <td>2</td>\n      <td>0</td>\n      <td>3</td>\n      <td>3</td>\n      <td>0</td>\n      <td>3</td>\n      <td>0</td>\n      <td>0</td>\n      <td>3</td>\n      <td>3</td>\n      <td>3</td>\n      <td>3</td>\n      <td>3</td>\n      <td>0</td>\n    </tr>\n    <tr>\n      <th>artykuły przemysłowe</th>\n      <td>2</td>\n      <td>2</td>\n      <td>2</td>\n      <td>0</td>\n      <td>2</td>\n      <td>1</td>\n      <td>0</td>\n      <td>2</td>\n      <td>0</td>\n      <td>0</td>\n      <td>2</td>\n      <td>2</td>\n      <td>0</td>\n      <td>2</td>\n      <td>2</td>\n      <td>0</td>\n    </tr>\n    <tr>\n      <th>warzywniak</th>\n      <td>1</td>\n      <td>1</td>\n      <td>1</td>\n      <td>1</td>\n      <td>1</td>\n      <td>1</td>\n      <td>0</td>\n      <td>1</td>\n      <td>1</td>\n      <td>0</td>\n      <td>1</td>\n      <td>1</td>\n      <td>1</td>\n      <td>1</td>\n      <td>1</td>\n      <td>1</td>\n    </tr>\n  </tbody>\n</table>\n</div>"
     },
     "execution_count": 270,
     "metadata": {},
     "output_type": "execute_result"
    }
   ],
   "source": [
    "df['main_category'] = categories[0]\n",
    "df['main_category'] = df['main_category'].str.lower()\n",
    "df['main_category'] = df['main_category'].str.strip()\n",
    "df.groupby(by='main_category').count().sort_values(by='EAN', ascending=False)"
   ],
   "metadata": {
    "collapsed": false,
    "pycharm": {
     "name": "#%%\n"
    }
   }
  },
  {
   "cell_type": "markdown",
   "source": [
    "Unify category names"
   ],
   "metadata": {
    "collapsed": false,
    "pycharm": {
     "name": "#%% md\n"
    }
   }
  },
  {
   "cell_type": "code",
   "execution_count": 271,
   "outputs": [
    {
     "data": {
      "text/plain": "                       EAN  amount  brand  capacity  category  description  \\\nmain_category                                                                \nnapoje                3979    3939   3773      3332      3979         3732   \nchemia                3909    3762   3612      1783      3909         3670   \nalkohol                323     254    154       319       323          277   \nbio                     86      86     86        64        86           86   \nmama i dziecko          24      24     24         6        24           24   \nstrefa roślinna         20      20     20        20        20           20   \nzdrowa żywność           8       8      8         0         8            6   \nspożywcze                6       6      6         4         6            6   \nartykuły spożywcze       3       0      2         0         3            3   \nartykuły przemysłowe     2       2      2         0         2            1   \nwarzywniak               1       1      1         1         1            1   \n\n                      extras  image_url  ingredients  origin  price  seller  \\\nmain_category                                                                 \nnapoje                  1437       3979         2514     405   3669    3979   \nchemia                     4       3909         2629    1365   3909    3909   \nalkohol                  222        316           37      43    168     315   \nbio                        0         86           30      12     86      86   \nmama i dziecko             4         24           18       4     24      24   \nstrefa roślinna            0         20            8       0     20      20   \nzdrowa żywność             0          8            6       0      8       8   \nspożywcze                  0          6            4       2      6       6   \nartykuły spożywcze         0          3            0       0      3       3   \nartykuły przemysłowe       0          2            0       0      2       2   \nwarzywniak                 0          1            1       0      1       1   \n\n                      storage  title   url  weight  \nmain_category                                       \nnapoje                   2671   3979  3979    1707  \nchemia                   1866   3909  3909    2409  \nalkohol                    30    323   316     115  \nbio                        29     86    86      26  \nmama i dziecko             10     24    24      18  \nstrefa roślinna            20     20    20       0  \nzdrowa żywność              8      8     8       0  \nspożywcze                   2      6     6       4  \nartykuły spożywcze          3      3     3       0  \nartykuły przemysłowe        0      2     2       0  \nwarzywniak                  1      1     1       1  ",
      "text/html": "<div>\n<style scoped>\n    .dataframe tbody tr th:only-of-type {\n        vertical-align: middle;\n    }\n\n    .dataframe tbody tr th {\n        vertical-align: top;\n    }\n\n    .dataframe thead th {\n        text-align: right;\n    }\n</style>\n<table border=\"1\" class=\"dataframe\">\n  <thead>\n    <tr style=\"text-align: right;\">\n      <th></th>\n      <th>EAN</th>\n      <th>amount</th>\n      <th>brand</th>\n      <th>capacity</th>\n      <th>category</th>\n      <th>description</th>\n      <th>extras</th>\n      <th>image_url</th>\n      <th>ingredients</th>\n      <th>origin</th>\n      <th>price</th>\n      <th>seller</th>\n      <th>storage</th>\n      <th>title</th>\n      <th>url</th>\n      <th>weight</th>\n    </tr>\n    <tr>\n      <th>main_category</th>\n      <th></th>\n      <th></th>\n      <th></th>\n      <th></th>\n      <th></th>\n      <th></th>\n      <th></th>\n      <th></th>\n      <th></th>\n      <th></th>\n      <th></th>\n      <th></th>\n      <th></th>\n      <th></th>\n      <th></th>\n      <th></th>\n    </tr>\n  </thead>\n  <tbody>\n    <tr>\n      <th>napoje</th>\n      <td>3979</td>\n      <td>3939</td>\n      <td>3773</td>\n      <td>3332</td>\n      <td>3979</td>\n      <td>3732</td>\n      <td>1437</td>\n      <td>3979</td>\n      <td>2514</td>\n      <td>405</td>\n      <td>3669</td>\n      <td>3979</td>\n      <td>2671</td>\n      <td>3979</td>\n      <td>3979</td>\n      <td>1707</td>\n    </tr>\n    <tr>\n      <th>chemia</th>\n      <td>3909</td>\n      <td>3762</td>\n      <td>3612</td>\n      <td>1783</td>\n      <td>3909</td>\n      <td>3670</td>\n      <td>4</td>\n      <td>3909</td>\n      <td>2629</td>\n      <td>1365</td>\n      <td>3909</td>\n      <td>3909</td>\n      <td>1866</td>\n      <td>3909</td>\n      <td>3909</td>\n      <td>2409</td>\n    </tr>\n    <tr>\n      <th>alkohol</th>\n      <td>323</td>\n      <td>254</td>\n      <td>154</td>\n      <td>319</td>\n      <td>323</td>\n      <td>277</td>\n      <td>222</td>\n      <td>316</td>\n      <td>37</td>\n      <td>43</td>\n      <td>168</td>\n      <td>315</td>\n      <td>30</td>\n      <td>323</td>\n      <td>316</td>\n      <td>115</td>\n    </tr>\n    <tr>\n      <th>bio</th>\n      <td>86</td>\n      <td>86</td>\n      <td>86</td>\n      <td>64</td>\n      <td>86</td>\n      <td>86</td>\n      <td>0</td>\n      <td>86</td>\n      <td>30</td>\n      <td>12</td>\n      <td>86</td>\n      <td>86</td>\n      <td>29</td>\n      <td>86</td>\n      <td>86</td>\n      <td>26</td>\n    </tr>\n    <tr>\n      <th>mama i dziecko</th>\n      <td>24</td>\n      <td>24</td>\n      <td>24</td>\n      <td>6</td>\n      <td>24</td>\n      <td>24</td>\n      <td>4</td>\n      <td>24</td>\n      <td>18</td>\n      <td>4</td>\n      <td>24</td>\n      <td>24</td>\n      <td>10</td>\n      <td>24</td>\n      <td>24</td>\n      <td>18</td>\n    </tr>\n    <tr>\n      <th>strefa roślinna</th>\n      <td>20</td>\n      <td>20</td>\n      <td>20</td>\n      <td>20</td>\n      <td>20</td>\n      <td>20</td>\n      <td>0</td>\n      <td>20</td>\n      <td>8</td>\n      <td>0</td>\n      <td>20</td>\n      <td>20</td>\n      <td>20</td>\n      <td>20</td>\n      <td>20</td>\n      <td>0</td>\n    </tr>\n    <tr>\n      <th>zdrowa żywność</th>\n      <td>8</td>\n      <td>8</td>\n      <td>8</td>\n      <td>0</td>\n      <td>8</td>\n      <td>6</td>\n      <td>0</td>\n      <td>8</td>\n      <td>6</td>\n      <td>0</td>\n      <td>8</td>\n      <td>8</td>\n      <td>8</td>\n      <td>8</td>\n      <td>8</td>\n      <td>0</td>\n    </tr>\n    <tr>\n      <th>spożywcze</th>\n      <td>6</td>\n      <td>6</td>\n      <td>6</td>\n      <td>4</td>\n      <td>6</td>\n      <td>6</td>\n      <td>0</td>\n      <td>6</td>\n      <td>4</td>\n      <td>2</td>\n      <td>6</td>\n      <td>6</td>\n      <td>2</td>\n      <td>6</td>\n      <td>6</td>\n      <td>4</td>\n    </tr>\n    <tr>\n      <th>artykuły spożywcze</th>\n      <td>3</td>\n      <td>0</td>\n      <td>2</td>\n      <td>0</td>\n      <td>3</td>\n      <td>3</td>\n      <td>0</td>\n      <td>3</td>\n      <td>0</td>\n      <td>0</td>\n      <td>3</td>\n      <td>3</td>\n      <td>3</td>\n      <td>3</td>\n      <td>3</td>\n      <td>0</td>\n    </tr>\n    <tr>\n      <th>artykuły przemysłowe</th>\n      <td>2</td>\n      <td>2</td>\n      <td>2</td>\n      <td>0</td>\n      <td>2</td>\n      <td>1</td>\n      <td>0</td>\n      <td>2</td>\n      <td>0</td>\n      <td>0</td>\n      <td>2</td>\n      <td>2</td>\n      <td>0</td>\n      <td>2</td>\n      <td>2</td>\n      <td>0</td>\n    </tr>\n    <tr>\n      <th>warzywniak</th>\n      <td>1</td>\n      <td>1</td>\n      <td>1</td>\n      <td>1</td>\n      <td>1</td>\n      <td>1</td>\n      <td>0</td>\n      <td>1</td>\n      <td>1</td>\n      <td>0</td>\n      <td>1</td>\n      <td>1</td>\n      <td>1</td>\n      <td>1</td>\n      <td>1</td>\n      <td>1</td>\n    </tr>\n  </tbody>\n</table>\n</div>"
     },
     "execution_count": 271,
     "metadata": {},
     "output_type": "execute_result"
    }
   ],
   "source": [
    "def map_prime_category(data, old_value, new_value):\n",
    "    data.at[df['main_category'] == old_value, 'main_category'] = new_value\n",
    "    return data\n",
    "\n",
    "df = map_prime_category(df, 'woda i napoje', 'napoje')\n",
    "df = map_prime_category(df, 'soki świeże i tłoczone', 'napoje')\n",
    "df = map_prime_category(df, 'środki czystości, chemia', 'chemia')\n",
    "df = map_prime_category(df, 'drogeria', 'chemia')\n",
    "df.groupby(by='main_category').count().sort_values(by='EAN', ascending=False)"
   ],
   "metadata": {
    "collapsed": false,
    "pycharm": {
     "name": "#%%\n"
    }
   }
  },
  {
   "cell_type": "markdown",
   "source": [
    "Select only \"napoje\" and \"chemia\""
   ],
   "metadata": {
    "collapsed": false,
    "pycharm": {
     "name": "#%% md\n"
    }
   }
  },
  {
   "cell_type": "code",
   "execution_count": 272,
   "outputs": [
    {
     "name": "stdout",
     "output_type": "stream",
     "text": [
      "Value counts\n"
     ]
    },
    {
     "data": {
      "text/plain": "                EAN  amount  brand  capacity  category  description  extras  \\\nmain_category                                                                 \nnapoje         3979    3939   3773      3332      3979         3732    1437   \nchemia         3909    3762   3612      1783      3909         3670       4   \n\n               image_url  ingredients  origin  price  seller  storage  title  \\\nmain_category                                                                  \nnapoje              3979         2514     405   3669    3979     2671   3979   \nchemia              3909         2629    1365   3909    3909     1866   3909   \n\n                url  weight  \nmain_category                \nnapoje         3979    1707  \nchemia         3909    2409  ",
      "text/html": "<div>\n<style scoped>\n    .dataframe tbody tr th:only-of-type {\n        vertical-align: middle;\n    }\n\n    .dataframe tbody tr th {\n        vertical-align: top;\n    }\n\n    .dataframe thead th {\n        text-align: right;\n    }\n</style>\n<table border=\"1\" class=\"dataframe\">\n  <thead>\n    <tr style=\"text-align: right;\">\n      <th></th>\n      <th>EAN</th>\n      <th>amount</th>\n      <th>brand</th>\n      <th>capacity</th>\n      <th>category</th>\n      <th>description</th>\n      <th>extras</th>\n      <th>image_url</th>\n      <th>ingredients</th>\n      <th>origin</th>\n      <th>price</th>\n      <th>seller</th>\n      <th>storage</th>\n      <th>title</th>\n      <th>url</th>\n      <th>weight</th>\n    </tr>\n    <tr>\n      <th>main_category</th>\n      <th></th>\n      <th></th>\n      <th></th>\n      <th></th>\n      <th></th>\n      <th></th>\n      <th></th>\n      <th></th>\n      <th></th>\n      <th></th>\n      <th></th>\n      <th></th>\n      <th></th>\n      <th></th>\n      <th></th>\n      <th></th>\n    </tr>\n  </thead>\n  <tbody>\n    <tr>\n      <th>napoje</th>\n      <td>3979</td>\n      <td>3939</td>\n      <td>3773</td>\n      <td>3332</td>\n      <td>3979</td>\n      <td>3732</td>\n      <td>1437</td>\n      <td>3979</td>\n      <td>2514</td>\n      <td>405</td>\n      <td>3669</td>\n      <td>3979</td>\n      <td>2671</td>\n      <td>3979</td>\n      <td>3979</td>\n      <td>1707</td>\n    </tr>\n    <tr>\n      <th>chemia</th>\n      <td>3909</td>\n      <td>3762</td>\n      <td>3612</td>\n      <td>1783</td>\n      <td>3909</td>\n      <td>3670</td>\n      <td>4</td>\n      <td>3909</td>\n      <td>2629</td>\n      <td>1365</td>\n      <td>3909</td>\n      <td>3909</td>\n      <td>1866</td>\n      <td>3909</td>\n      <td>3909</td>\n      <td>2409</td>\n    </tr>\n  </tbody>\n</table>\n</div>"
     },
     "execution_count": 272,
     "metadata": {},
     "output_type": "execute_result"
    }
   ],
   "source": [
    "df = df.loc[df['main_category'].isin(['napoje', 'chemia'])]\n",
    "print('Value counts')\n",
    "df.groupby(by='main_category').count().sort_values(by='EAN', ascending=False)"
   ],
   "metadata": {
    "collapsed": false,
    "pycharm": {
     "name": "#%%\n"
    }
   }
  },
  {
   "cell_type": "markdown",
   "source": [
    "Combination of EAN and seller must be unique.\n",
    "\n",
    "We want offers to be unique in every seller."
   ],
   "metadata": {
    "collapsed": false,
    "pycharm": {
     "name": "#%% md\n"
    }
   }
  },
  {
   "cell_type": "code",
   "execution_count": 273,
   "outputs": [
    {
     "name": "stdout",
     "output_type": "stream",
     "text": [
      "Unique\n"
     ]
    },
    {
     "data": {
      "text/plain": "main_category\nchemia    2699\nnapoje    2782\nName: EAN_seller, dtype: int64"
     },
     "execution_count": 273,
     "metadata": {},
     "output_type": "execute_result"
    }
   ],
   "source": [
    "df['EAN_seller'] = df['EAN'] + '_' + df['seller']\n",
    "print('Unique')\n",
    "df.groupby(by='main_category')['EAN_seller'].nunique()"
   ],
   "metadata": {
    "collapsed": false,
    "pycharm": {
     "name": "#%%\n"
    }
   }
  },
  {
   "cell_type": "code",
   "execution_count": 274,
   "outputs": [
    {
     "name": "stdout",
     "output_type": "stream",
     "text": [
      "Value counts\n"
     ]
    },
    {
     "data": {
      "text/plain": "                EAN  amount  brand  capacity  category  description  extras  \\\nmain_category                                                                 \nnapoje         2782    2742   2576      2145      2782         2535    1114   \nchemia         2699    2552   2402      1164      2699         2460       3   \n\n               image_url  ingredients  origin  price  seller  storage  title  \\\nmain_category                                                                  \nnapoje              2782         1759     316   2474    2782     1838   2782   \nchemia              2699         1870    1006   2699    2699     1323   2699   \n\n                url  weight  EAN_seller  \nmain_category                            \nnapoje         2782    1182        2782  \nchemia         2699    1483        2699  ",
      "text/html": "<div>\n<style scoped>\n    .dataframe tbody tr th:only-of-type {\n        vertical-align: middle;\n    }\n\n    .dataframe tbody tr th {\n        vertical-align: top;\n    }\n\n    .dataframe thead th {\n        text-align: right;\n    }\n</style>\n<table border=\"1\" class=\"dataframe\">\n  <thead>\n    <tr style=\"text-align: right;\">\n      <th></th>\n      <th>EAN</th>\n      <th>amount</th>\n      <th>brand</th>\n      <th>capacity</th>\n      <th>category</th>\n      <th>description</th>\n      <th>extras</th>\n      <th>image_url</th>\n      <th>ingredients</th>\n      <th>origin</th>\n      <th>price</th>\n      <th>seller</th>\n      <th>storage</th>\n      <th>title</th>\n      <th>url</th>\n      <th>weight</th>\n      <th>EAN_seller</th>\n    </tr>\n    <tr>\n      <th>main_category</th>\n      <th></th>\n      <th></th>\n      <th></th>\n      <th></th>\n      <th></th>\n      <th></th>\n      <th></th>\n      <th></th>\n      <th></th>\n      <th></th>\n      <th></th>\n      <th></th>\n      <th></th>\n      <th></th>\n      <th></th>\n      <th></th>\n      <th></th>\n    </tr>\n  </thead>\n  <tbody>\n    <tr>\n      <th>napoje</th>\n      <td>2782</td>\n      <td>2742</td>\n      <td>2576</td>\n      <td>2145</td>\n      <td>2782</td>\n      <td>2535</td>\n      <td>1114</td>\n      <td>2782</td>\n      <td>1759</td>\n      <td>316</td>\n      <td>2474</td>\n      <td>2782</td>\n      <td>1838</td>\n      <td>2782</td>\n      <td>2782</td>\n      <td>1182</td>\n      <td>2782</td>\n    </tr>\n    <tr>\n      <th>chemia</th>\n      <td>2699</td>\n      <td>2552</td>\n      <td>2402</td>\n      <td>1164</td>\n      <td>2699</td>\n      <td>2460</td>\n      <td>3</td>\n      <td>2699</td>\n      <td>1870</td>\n      <td>1006</td>\n      <td>2699</td>\n      <td>2699</td>\n      <td>1323</td>\n      <td>2699</td>\n      <td>2699</td>\n      <td>1483</td>\n      <td>2699</td>\n    </tr>\n  </tbody>\n</table>\n</div>"
     },
     "execution_count": 274,
     "metadata": {},
     "output_type": "execute_result"
    }
   ],
   "source": [
    "df = df.drop_duplicates(subset=['EAN_seller'])\n",
    "print('Value counts')\n",
    "df.groupby(by='main_category').count().sort_values(by='EAN', ascending=False)"
   ],
   "metadata": {
    "collapsed": false,
    "pycharm": {
     "name": "#%%\n"
    }
   }
  },
  {
   "cell_type": "code",
   "execution_count": 275,
   "outputs": [
    {
     "name": "stdout",
     "output_type": "stream",
     "text": [
      "Unique\n"
     ]
    },
    {
     "data": {
      "text/plain": "                EAN  amount  brand  capacity  category  description  extras  \\\nmain_category                                                                 \nchemia         1797     365    174       192      1218         1719       3   \nnapoje         2078     195    238       153       709         1667      94   \n\n               image_url  ingredients  origin  price  seller  storage  title  \\\nmain_category                                                                  \nchemia              2699          855      42    451       3      222   2304   \nnapoje              2782          892      25    454       4      326   1818   \n\n                url  weight  EAN_seller  \nmain_category                            \nchemia         2699     601        2699  \nnapoje         2782     302        2782  ",
      "text/html": "<div>\n<style scoped>\n    .dataframe tbody tr th:only-of-type {\n        vertical-align: middle;\n    }\n\n    .dataframe tbody tr th {\n        vertical-align: top;\n    }\n\n    .dataframe thead th {\n        text-align: right;\n    }\n</style>\n<table border=\"1\" class=\"dataframe\">\n  <thead>\n    <tr style=\"text-align: right;\">\n      <th></th>\n      <th>EAN</th>\n      <th>amount</th>\n      <th>brand</th>\n      <th>capacity</th>\n      <th>category</th>\n      <th>description</th>\n      <th>extras</th>\n      <th>image_url</th>\n      <th>ingredients</th>\n      <th>origin</th>\n      <th>price</th>\n      <th>seller</th>\n      <th>storage</th>\n      <th>title</th>\n      <th>url</th>\n      <th>weight</th>\n      <th>EAN_seller</th>\n    </tr>\n    <tr>\n      <th>main_category</th>\n      <th></th>\n      <th></th>\n      <th></th>\n      <th></th>\n      <th></th>\n      <th></th>\n      <th></th>\n      <th></th>\n      <th></th>\n      <th></th>\n      <th></th>\n      <th></th>\n      <th></th>\n      <th></th>\n      <th></th>\n      <th></th>\n      <th></th>\n    </tr>\n  </thead>\n  <tbody>\n    <tr>\n      <th>chemia</th>\n      <td>1797</td>\n      <td>365</td>\n      <td>174</td>\n      <td>192</td>\n      <td>1218</td>\n      <td>1719</td>\n      <td>3</td>\n      <td>2699</td>\n      <td>855</td>\n      <td>42</td>\n      <td>451</td>\n      <td>3</td>\n      <td>222</td>\n      <td>2304</td>\n      <td>2699</td>\n      <td>601</td>\n      <td>2699</td>\n    </tr>\n    <tr>\n      <th>napoje</th>\n      <td>2078</td>\n      <td>195</td>\n      <td>238</td>\n      <td>153</td>\n      <td>709</td>\n      <td>1667</td>\n      <td>94</td>\n      <td>2782</td>\n      <td>892</td>\n      <td>25</td>\n      <td>454</td>\n      <td>4</td>\n      <td>326</td>\n      <td>1818</td>\n      <td>2782</td>\n      <td>302</td>\n      <td>2782</td>\n    </tr>\n  </tbody>\n</table>\n</div>"
     },
     "execution_count": 275,
     "metadata": {},
     "output_type": "execute_result"
    }
   ],
   "source": [
    "print('Unique')\n",
    "df.groupby(by='main_category').nunique()"
   ],
   "metadata": {
    "collapsed": false,
    "pycharm": {
     "name": "#%%\n"
    }
   }
  },
  {
   "cell_type": "code",
   "execution_count": 276,
   "outputs": [],
   "source": [
    "df = df.drop('EAN_seller', axis=1)"
   ],
   "metadata": {
    "collapsed": false,
    "pycharm": {
     "name": "#%%\n"
    }
   }
  },
  {
   "cell_type": "markdown",
   "source": [
    "Select products which are present in more than one shop"
   ],
   "metadata": {
    "collapsed": false,
    "pycharm": {
     "name": "#%% md\n"
    }
   }
  },
  {
   "cell_type": "code",
   "execution_count": 277,
   "outputs": [
    {
     "data": {
      "text/plain": "1    2639\n2     866\n3     370\nName: EAN, dtype: int64"
     },
     "execution_count": 277,
     "metadata": {},
     "output_type": "execute_result"
    }
   ],
   "source": [
    "ean_counts = df['EAN'].value_counts()\n",
    "ean_counts.value_counts()"
   ],
   "metadata": {
    "collapsed": false,
    "pycharm": {
     "name": "#%%\n"
    }
   }
  },
  {
   "cell_type": "code",
   "execution_count": 278,
   "outputs": [
    {
     "name": "stdout",
     "output_type": "stream",
     "text": [
      "Value counts\n"
     ]
    },
    {
     "data": {
      "text/plain": "                EAN  amount  brand  capacity  category  description  extras  \\\nmain_category                                                                 \nchemia         1585    1470   1392       719      1585         1446       3   \nnapoje         1257    1229   1122       839      1257         1096     475   \n\n               image_url  ingredients  origin  price  seller  storage  title  \\\nmain_category                                                                  \nchemia              1585         1280     697   1585    1585      840   1585   \nnapoje              1257          947     151   1255    1257      941   1257   \n\n                url  weight  \nmain_category                \nchemia         1585     796  \nnapoje         1257     672  ",
      "text/html": "<div>\n<style scoped>\n    .dataframe tbody tr th:only-of-type {\n        vertical-align: middle;\n    }\n\n    .dataframe tbody tr th {\n        vertical-align: top;\n    }\n\n    .dataframe thead th {\n        text-align: right;\n    }\n</style>\n<table border=\"1\" class=\"dataframe\">\n  <thead>\n    <tr style=\"text-align: right;\">\n      <th></th>\n      <th>EAN</th>\n      <th>amount</th>\n      <th>brand</th>\n      <th>capacity</th>\n      <th>category</th>\n      <th>description</th>\n      <th>extras</th>\n      <th>image_url</th>\n      <th>ingredients</th>\n      <th>origin</th>\n      <th>price</th>\n      <th>seller</th>\n      <th>storage</th>\n      <th>title</th>\n      <th>url</th>\n      <th>weight</th>\n    </tr>\n    <tr>\n      <th>main_category</th>\n      <th></th>\n      <th></th>\n      <th></th>\n      <th></th>\n      <th></th>\n      <th></th>\n      <th></th>\n      <th></th>\n      <th></th>\n      <th></th>\n      <th></th>\n      <th></th>\n      <th></th>\n      <th></th>\n      <th></th>\n      <th></th>\n    </tr>\n  </thead>\n  <tbody>\n    <tr>\n      <th>chemia</th>\n      <td>1585</td>\n      <td>1470</td>\n      <td>1392</td>\n      <td>719</td>\n      <td>1585</td>\n      <td>1446</td>\n      <td>3</td>\n      <td>1585</td>\n      <td>1280</td>\n      <td>697</td>\n      <td>1585</td>\n      <td>1585</td>\n      <td>840</td>\n      <td>1585</td>\n      <td>1585</td>\n      <td>796</td>\n    </tr>\n    <tr>\n      <th>napoje</th>\n      <td>1257</td>\n      <td>1229</td>\n      <td>1122</td>\n      <td>839</td>\n      <td>1257</td>\n      <td>1096</td>\n      <td>475</td>\n      <td>1257</td>\n      <td>947</td>\n      <td>151</td>\n      <td>1255</td>\n      <td>1257</td>\n      <td>941</td>\n      <td>1257</td>\n      <td>1257</td>\n      <td>672</td>\n    </tr>\n  </tbody>\n</table>\n</div>"
     },
     "execution_count": 278,
     "metadata": {},
     "output_type": "execute_result"
    }
   ],
   "source": [
    "df = df[df['EAN'].isin(ean_counts[ean_counts > 1].index)]\n",
    "print('Value counts')\n",
    "df.groupby(by='main_category').count().sort_values(by='EAN', ascending=False)"
   ],
   "metadata": {
    "collapsed": false,
    "pycharm": {
     "name": "#%%\n"
    }
   }
  },
  {
   "cell_type": "code",
   "execution_count": 279,
   "outputs": [
    {
     "name": "stdout",
     "output_type": "stream",
     "text": [
      "Unique\n"
     ]
    },
    {
     "data": {
      "text/plain": "               EAN  amount  brand  capacity  category  description  extras  \\\nmain_category                                                                \nchemia         683     240    125       130       546          893       3   \nnapoje         553      90    128        64       339          874      58   \n\n               image_url  ingredients  origin  price  seller  storage  title  \\\nmain_category                                                                  \nchemia              1585          495      31    316       3      127   1239   \nnapoje              1257          447      15    242       3      183    863   \n\n                url  weight  \nmain_category                \nchemia         1585     351  \nnapoje         1257     202  ",
      "text/html": "<div>\n<style scoped>\n    .dataframe tbody tr th:only-of-type {\n        vertical-align: middle;\n    }\n\n    .dataframe tbody tr th {\n        vertical-align: top;\n    }\n\n    .dataframe thead th {\n        text-align: right;\n    }\n</style>\n<table border=\"1\" class=\"dataframe\">\n  <thead>\n    <tr style=\"text-align: right;\">\n      <th></th>\n      <th>EAN</th>\n      <th>amount</th>\n      <th>brand</th>\n      <th>capacity</th>\n      <th>category</th>\n      <th>description</th>\n      <th>extras</th>\n      <th>image_url</th>\n      <th>ingredients</th>\n      <th>origin</th>\n      <th>price</th>\n      <th>seller</th>\n      <th>storage</th>\n      <th>title</th>\n      <th>url</th>\n      <th>weight</th>\n    </tr>\n    <tr>\n      <th>main_category</th>\n      <th></th>\n      <th></th>\n      <th></th>\n      <th></th>\n      <th></th>\n      <th></th>\n      <th></th>\n      <th></th>\n      <th></th>\n      <th></th>\n      <th></th>\n      <th></th>\n      <th></th>\n      <th></th>\n      <th></th>\n      <th></th>\n    </tr>\n  </thead>\n  <tbody>\n    <tr>\n      <th>chemia</th>\n      <td>683</td>\n      <td>240</td>\n      <td>125</td>\n      <td>130</td>\n      <td>546</td>\n      <td>893</td>\n      <td>3</td>\n      <td>1585</td>\n      <td>495</td>\n      <td>31</td>\n      <td>316</td>\n      <td>3</td>\n      <td>127</td>\n      <td>1239</td>\n      <td>1585</td>\n      <td>351</td>\n    </tr>\n    <tr>\n      <th>napoje</th>\n      <td>553</td>\n      <td>90</td>\n      <td>128</td>\n      <td>64</td>\n      <td>339</td>\n      <td>874</td>\n      <td>58</td>\n      <td>1257</td>\n      <td>447</td>\n      <td>15</td>\n      <td>242</td>\n      <td>3</td>\n      <td>183</td>\n      <td>863</td>\n      <td>1257</td>\n      <td>202</td>\n    </tr>\n  </tbody>\n</table>\n</div>"
     },
     "execution_count": 279,
     "metadata": {},
     "output_type": "execute_result"
    }
   ],
   "source": [
    "print('Unique')\n",
    "df.groupby(by='main_category').nunique()"
   ],
   "metadata": {
    "collapsed": false,
    "pycharm": {
     "name": "#%%\n"
    }
   }
  },
  {
   "cell_type": "code",
   "execution_count": 280,
   "outputs": [
    {
     "data": {
      "text/plain": "                  EAN  amount  brand  capacity  category  description  extras  \\\nseller                                                                          \nFrisco            888     888    888       697       888          888     135   \nLeclerc Rzeszów  1003     861    691       861      1003         1003     201   \nLeclerc lublin    951     950    935         0       951          651     142   \n\n                 image_url  ingredients  origin  price  storage  title   url  \\\nseller                                                                         \nFrisco                 888          690     254    888      533    888   888   \nLeclerc Rzeszów       1003          757     269   1003      549   1003  1003   \nLeclerc lublin         951          780     325    949      699    951   951   \n\n                 weight  main_category  \nseller                                  \nFrisco              607            888  \nLeclerc Rzeszów     861           1003  \nLeclerc lublin        0            951  ",
      "text/html": "<div>\n<style scoped>\n    .dataframe tbody tr th:only-of-type {\n        vertical-align: middle;\n    }\n\n    .dataframe tbody tr th {\n        vertical-align: top;\n    }\n\n    .dataframe thead th {\n        text-align: right;\n    }\n</style>\n<table border=\"1\" class=\"dataframe\">\n  <thead>\n    <tr style=\"text-align: right;\">\n      <th></th>\n      <th>EAN</th>\n      <th>amount</th>\n      <th>brand</th>\n      <th>capacity</th>\n      <th>category</th>\n      <th>description</th>\n      <th>extras</th>\n      <th>image_url</th>\n      <th>ingredients</th>\n      <th>origin</th>\n      <th>price</th>\n      <th>storage</th>\n      <th>title</th>\n      <th>url</th>\n      <th>weight</th>\n      <th>main_category</th>\n    </tr>\n    <tr>\n      <th>seller</th>\n      <th></th>\n      <th></th>\n      <th></th>\n      <th></th>\n      <th></th>\n      <th></th>\n      <th></th>\n      <th></th>\n      <th></th>\n      <th></th>\n      <th></th>\n      <th></th>\n      <th></th>\n      <th></th>\n      <th></th>\n      <th></th>\n    </tr>\n  </thead>\n  <tbody>\n    <tr>\n      <th>Frisco</th>\n      <td>888</td>\n      <td>888</td>\n      <td>888</td>\n      <td>697</td>\n      <td>888</td>\n      <td>888</td>\n      <td>135</td>\n      <td>888</td>\n      <td>690</td>\n      <td>254</td>\n      <td>888</td>\n      <td>533</td>\n      <td>888</td>\n      <td>888</td>\n      <td>607</td>\n      <td>888</td>\n    </tr>\n    <tr>\n      <th>Leclerc Rzeszów</th>\n      <td>1003</td>\n      <td>861</td>\n      <td>691</td>\n      <td>861</td>\n      <td>1003</td>\n      <td>1003</td>\n      <td>201</td>\n      <td>1003</td>\n      <td>757</td>\n      <td>269</td>\n      <td>1003</td>\n      <td>549</td>\n      <td>1003</td>\n      <td>1003</td>\n      <td>861</td>\n      <td>1003</td>\n    </tr>\n    <tr>\n      <th>Leclerc lublin</th>\n      <td>951</td>\n      <td>950</td>\n      <td>935</td>\n      <td>0</td>\n      <td>951</td>\n      <td>651</td>\n      <td>142</td>\n      <td>951</td>\n      <td>780</td>\n      <td>325</td>\n      <td>949</td>\n      <td>699</td>\n      <td>951</td>\n      <td>951</td>\n      <td>0</td>\n      <td>951</td>\n    </tr>\n  </tbody>\n</table>\n</div>"
     },
     "execution_count": 280,
     "metadata": {},
     "output_type": "execute_result"
    }
   ],
   "source": [
    "df.groupby(by='seller').count()"
   ],
   "metadata": {
    "collapsed": false,
    "pycharm": {
     "name": "#%%\n"
    }
   }
  },
  {
   "cell_type": "code",
   "execution_count": 281,
   "outputs": [
    {
     "data": {
      "text/plain": "Text(0.5, 1.0, 'Chemia')"
     },
     "execution_count": 281,
     "metadata": {},
     "output_type": "execute_result"
    },
    {
     "data": {
      "text/plain": "<Figure size 432x288 with 1 Axes>",
      "image/png": "[encoded data removed]"
     },
     "metadata": {},
     "output_type": "display_data"
    }
   ],
   "source": [
    "sns.histplot(df[df['main_category'] == 'chemia'], x='seller').set_title('Chemia')"
   ],
   "metadata": {
    "collapsed": false,
    "pycharm": {
     "name": "#%%\n"
    }
   }
  },
  {
   "cell_type": "code",
   "execution_count": 282,
   "outputs": [
    {
     "data": {
      "text/plain": "Text(0.5, 1.0, 'Napoje')"
     },
     "execution_count": 282,
     "metadata": {},
     "output_type": "execute_result"
    },
    {
     "data": {
      "text/plain": "<Figure size 432x288 with 1 Axes>",
      "image/png": "[encoded data removed]"
     },
     "metadata": {},
     "output_type": "display_data"
    }
   ],
   "source": [
    "sns.histplot(df[df['main_category'] == 'napoje'], x='seller').set_title('Napoje')"
   ],
   "metadata": {
    "collapsed": false,
    "pycharm": {
     "name": "#%%\n"
    }
   }
  },
  {
   "cell_type": "markdown",
   "source": [
    "## Normalization to WDC v2 format"
   ],
   "metadata": {
    "collapsed": false,
    "pycharm": {
     "name": "#%% md\n"
    }
   }
  },
  {
   "cell_type": "code",
   "execution_count": 283,
   "outputs": [],
   "source": [
    "df.fillna('', inplace=True)"
   ],
   "metadata": {
    "collapsed": false,
    "pycharm": {
     "name": "#%%\n"
    }
   }
  },
  {
   "cell_type": "code",
   "execution_count": 284,
   "outputs": [
    {
     "data": {
      "text/plain": "                EAN  amount   brand capacity  \\\n5787  5907637328574   499 g    eco             \n5411  5449000087775  3 00 l   fanta            \n7890  5060466512665  250 ml           250 ml   \n7645  5901886010198     2 l  garden      2 l   \n5361  5900497036726  1 50 l   pepsi            \n\n                                               category  \\\n5787  drogeria środki do czyszczenia proszki do czys...   \n5411                      woda i napoje napoje gazowane   \n7890                         napoje napoje energetyczne   \n7645                          napoje napoje niegazowane   \n5361                      woda i napoje napoje gazowane   \n\n                                            description  \\\n5787                                                      \n5411                                                      \n7890  burn apple kiwi gazowany napój energetyczny 25...   \n7645  garden napój jabłko 2 l fsc www fsc org miesza...   \n5361                                                      \n\n                                                 extras  \\\n5787                                                      \n5411                            konserwanty nie zawiera   \n7890                                                      \n7645  konserwanty nie zawiera substancje słodzące za...   \n5361                        substancje słodzące zawiera   \n\n                                              image_url  \\\n5787  https leclercdrive lublin pl 154187 large_defa...   \n5411  https leclercdrive lublin pl 113458 large_defa...   \n7890  https www leclerc rzeszow pl resize php pic 16...   \n7645  https www leclerc rzeszow pl resize php pic 14...   \n5361  https leclercdrive lublin pl 149508 large_defa...   \n\n                                            ingredients origin    price  \\\n5787  skład 5 anionowe środki powierzchniowo czynne ...         1 69 zł   \n5411  woda cukier sok pomarańczowy 5 z soku zagęszcz...         9 59 zł   \n7890  woda cukier dwutlenek węgla kwas kwas cytrynow...     ue     2 89   \n7645  naturalna woda mineralna sok jabłkowy z zagęsz...            3 69   \n5361  woda dwutlenek węgla barwnik e150d kwasy kwas ...         3 99 zł   \n\n               seller                                            storage  \\\n5787   leclerc lublin  przechowywać w szczelnie zamkniętych oryginaln...   \n5411   leclerc lublin  zawartość soku może powodować powstawanie natu...   \n7890  leclerc rzeszów                                                      \n7645  leclerc rzeszów  po otwarciu przechowywać w lodówce nie dłużej ...   \n5361   leclerc lublin  przechowywać w chłodnym i suchym miejscu chron...   \n\n                                                  title  \\\n5787                             proszek do czyszczenia   \n5411        fanta pomarańczowa napój gazowany 2 x 1 5 l   \n7890  burn apple kiwi gazowany napój energetyczny 25...   \n7645                            garden napój jabłko 2 l   \n5361                    pepsi lime napój gazowany 1 5 l   \n\n                                                    url             weight  \\\n5787  https leclercdrive lublin pl proszki do czyszc...                      \n5411  https leclercdrive lublin pl napoje gazowane 1...                      \n7890  https www leclerc rzeszow pl burn apple kiwi g...  waga netto 250 ml   \n7645  https www leclerc rzeszow pl garden napoj jabl...     waga netto 2 l   \n5361  https leclercdrive lublin pl napoje gazowane 1...                      \n\n     main_category  \n5787        chemia  \n5411        napoje  \n7890        napoje  \n7645        napoje  \n5361        napoje  ",
      "text/html": "<div>\n<style scoped>\n    .dataframe tbody tr th:only-of-type {\n        vertical-align: middle;\n    }\n\n    .dataframe tbody tr th {\n        vertical-align: top;\n    }\n\n    .dataframe thead th {\n        text-align: right;\n    }\n</style>\n<table border=\"1\" class=\"dataframe\">\n  <thead>\n    <tr style=\"text-align: right;\">\n      <th></th>\n      <th>EAN</th>\n      <th>amount</th>\n      <th>brand</th>\n      <th>capacity</th>\n      <th>category</th>\n      <th>description</th>\n      <th>extras</th>\n      <th>image_url</th>\n      <th>ingredients</th>\n      <th>origin</th>\n      <th>price</th>\n      <th>seller</th>\n      <th>storage</th>\n      <th>title</th>\n      <th>url</th>\n      <th>weight</th>\n      <th>main_category</th>\n    </tr>\n  </thead>\n  <tbody>\n    <tr>\n      <th>5787</th>\n      <td>5907637328574</td>\n      <td>499 g</td>\n      <td>eco</td>\n      <td></td>\n      <td>drogeria środki do czyszczenia proszki do czys...</td>\n      <td></td>\n      <td></td>\n      <td>https leclercdrive lublin pl 154187 large_defa...</td>\n      <td>skład 5 anionowe środki powierzchniowo czynne ...</td>\n      <td></td>\n      <td>1 69 zł</td>\n      <td>leclerc lublin</td>\n      <td>przechowywać w szczelnie zamkniętych oryginaln...</td>\n      <td>proszek do czyszczenia</td>\n      <td>https leclercdrive lublin pl proszki do czyszc...</td>\n      <td></td>\n      <td>chemia</td>\n    </tr>\n    <tr>\n      <th>5411</th>\n      <td>5449000087775</td>\n      <td>3 00 l</td>\n      <td>fanta</td>\n      <td></td>\n      <td>woda i napoje napoje gazowane</td>\n      <td></td>\n      <td>konserwanty nie zawiera</td>\n      <td>https leclercdrive lublin pl 113458 large_defa...</td>\n      <td>woda cukier sok pomarańczowy 5 z soku zagęszcz...</td>\n      <td></td>\n      <td>9 59 zł</td>\n      <td>leclerc lublin</td>\n      <td>zawartość soku może powodować powstawanie natu...</td>\n      <td>fanta pomarańczowa napój gazowany 2 x 1 5 l</td>\n      <td>https leclercdrive lublin pl napoje gazowane 1...</td>\n      <td></td>\n      <td>napoje</td>\n    </tr>\n    <tr>\n      <th>7890</th>\n      <td>5060466512665</td>\n      <td>250 ml</td>\n      <td></td>\n      <td>250 ml</td>\n      <td>napoje napoje energetyczne</td>\n      <td>burn apple kiwi gazowany napój energetyczny 25...</td>\n      <td></td>\n      <td>https www leclerc rzeszow pl resize php pic 16...</td>\n      <td>woda cukier dwutlenek węgla kwas kwas cytrynow...</td>\n      <td>ue</td>\n      <td>2 89</td>\n      <td>leclerc rzeszów</td>\n      <td></td>\n      <td>burn apple kiwi gazowany napój energetyczny 25...</td>\n      <td>https www leclerc rzeszow pl burn apple kiwi g...</td>\n      <td>waga netto 250 ml</td>\n      <td>napoje</td>\n    </tr>\n    <tr>\n      <th>7645</th>\n      <td>5901886010198</td>\n      <td>2 l</td>\n      <td>garden</td>\n      <td>2 l</td>\n      <td>napoje napoje niegazowane</td>\n      <td>garden napój jabłko 2 l fsc www fsc org miesza...</td>\n      <td>konserwanty nie zawiera substancje słodzące za...</td>\n      <td>https www leclerc rzeszow pl resize php pic 14...</td>\n      <td>naturalna woda mineralna sok jabłkowy z zagęsz...</td>\n      <td></td>\n      <td>3 69</td>\n      <td>leclerc rzeszów</td>\n      <td>po otwarciu przechowywać w lodówce nie dłużej ...</td>\n      <td>garden napój jabłko 2 l</td>\n      <td>https www leclerc rzeszow pl garden napoj jabl...</td>\n      <td>waga netto 2 l</td>\n      <td>napoje</td>\n    </tr>\n    <tr>\n      <th>5361</th>\n      <td>5900497036726</td>\n      <td>1 50 l</td>\n      <td>pepsi</td>\n      <td></td>\n      <td>woda i napoje napoje gazowane</td>\n      <td></td>\n      <td>substancje słodzące zawiera</td>\n      <td>https leclercdrive lublin pl 149508 large_defa...</td>\n      <td>woda dwutlenek węgla barwnik e150d kwasy kwas ...</td>\n      <td></td>\n      <td>3 99 zł</td>\n      <td>leclerc lublin</td>\n      <td>przechowywać w chłodnym i suchym miejscu chron...</td>\n      <td>pepsi lime napój gazowany 1 5 l</td>\n      <td>https leclercdrive lublin pl napoje gazowane 1...</td>\n      <td></td>\n      <td>napoje</td>\n    </tr>\n  </tbody>\n</table>\n</div>"
     },
     "execution_count": 284,
     "metadata": {},
     "output_type": "execute_result"
    }
   ],
   "source": [
    "df_normalized = pd.DataFrame()\n",
    "for k in df.keys():\n",
    "    df_normalized[k] = df[k].str.lower()\n",
    "    df_normalized[k] = df_normalized[k].str.replace(r'\\W',r' ',regex=True)\n",
    "    df_normalized[k] = df_normalized[k].str.replace(r' +',r' ',regex=True)\n",
    "df_normalized.head()"
   ],
   "metadata": {
    "collapsed": false,
    "pycharm": {
     "name": "#%%\n"
    }
   }
  },
  {
   "cell_type": "code",
   "execution_count": 285,
   "outputs": [],
   "source": [
    "def to_WDC_standard(data):\n",
    "    wdc_df = pd.DataFrame({'id':data.index}).set_index('id')\n",
    "    wdc_df['cluster_id'] = data['EAN']\n",
    "    wdc_df['identifiers'] = [[{'EAN': [e]}] for e in data['EAN'].to_list()]\n",
    "    wdc_df['category'] = data['main_category']\n",
    "    wdc_df['title'] = data['title']\n",
    "    wdc_df['description'] = data['description']\n",
    "    wdc_df['brand'] = data['brand']\n",
    "    wdc_df['price'] = data['price']\n",
    "    spec_table = 'amount ' + data['amount']\n",
    "    for c in ['capacity', 'extras', 'image_url', 'ingredients', 'origin', 'storage', 'url', 'weight']:\n",
    "        s =  ' ' + c + ' ' + data[c]\n",
    "        spec_table += s\n",
    "    wdc_df['specTableContent'] = spec_table\n",
    "    wdc_df['keyValuePairs'] = data.loc[:, ['amount', 'capacity', 'extras', 'image_url', 'ingredients', 'origin', 'storage', 'url', 'weight']].to_dict(orient='records')\n",
    "    return wdc_df"
   ],
   "metadata": {
    "collapsed": false,
    "pycharm": {
     "name": "#%%\n"
    }
   }
  },
  {
   "cell_type": "code",
   "execution_count": 286,
   "outputs": [
    {
     "data": {
      "text/plain": "         cluster_id                   identifiers category  \\\nid                                                           \n5787  5907637328574  [{'EAN': ['5907637328574']}]   chemia   \n5411  5449000087775  [{'EAN': ['5449000087775']}]   napoje   \n7890  5060466512665  [{'EAN': ['5060466512665']}]   napoje   \n7645  5901886010198  [{'EAN': ['5901886010198']}]   napoje   \n5361  5900497036726  [{'EAN': ['5900497036726']}]   napoje   \n\n                                                  title  \\\nid                                                        \n5787                             Proszek do czyszczenia   \n5411        Fanta Pomarańczowa Napój gazowany 2 x 1,5 l   \n7890  Burn Apple Kiwi Gazowany napój energetyczny 25...   \n7645                            Garden Napój jabłko 2 l   \n5361                    Pepsi Lime Napój gazowany 1,5 l   \n\n                                            description   brand    price  \\\nid                                                                         \n5787                                                       ECO+  1,69 zł   \n5411                                                      Fanta  9,59 zł   \n7890  Burn Apple Kiwi Gazowany napój energetyczny 25...             2.89   \n7645  Garden Napój jabłko 2 l FSC - www.fsc.org, Mie...  Garden     3.69   \n5361                                                      Pepsi  3,99 zł   \n\n                                       specTableContent  \\\nid                                                        \n5787  amount 499 g capacity  extras  image_url https...   \n5411  amount 3.00 L capacity  extras konserwanty: Ni...   \n7890  amount 250 ml capacity 250 ml extras  image_ur...   \n7645  amount 2 l capacity 2 l extras konserwanty - N...   \n5361  amount 1.50 L capacity  extras Substancje słod...   \n\n                                          keyValuePairs  \nid                                                       \n5787  {'amount': '499 g', 'capacity': '', 'extras': ...  \n5411  {'amount': '3.00 L', 'capacity': '', 'extras':...  \n7890  {'amount': '250 ml', 'capacity': '250 ml', 'ex...  \n7645  {'amount': '2 l', 'capacity': '2 l', 'extras':...  \n5361  {'amount': '1.50 L', 'capacity': '', 'extras':...  ",
      "text/html": "<div>\n<style scoped>\n    .dataframe tbody tr th:only-of-type {\n        vertical-align: middle;\n    }\n\n    .dataframe tbody tr th {\n        vertical-align: top;\n    }\n\n    .dataframe thead th {\n        text-align: right;\n    }\n</style>\n<table border=\"1\" class=\"dataframe\">\n  <thead>\n    <tr style=\"text-align: right;\">\n      <th></th>\n      <th>cluster_id</th>\n      <th>identifiers</th>\n      <th>category</th>\n      <th>title</th>\n      <th>description</th>\n      <th>brand</th>\n      <th>price</th>\n      <th>specTableContent</th>\n      <th>keyValuePairs</th>\n    </tr>\n    <tr>\n      <th>id</th>\n      <th></th>\n      <th></th>\n      <th></th>\n      <th></th>\n      <th></th>\n      <th></th>\n      <th></th>\n      <th></th>\n      <th></th>\n    </tr>\n  </thead>\n  <tbody>\n    <tr>\n      <th>5787</th>\n      <td>5907637328574</td>\n      <td>[{'EAN': ['5907637328574']}]</td>\n      <td>chemia</td>\n      <td>Proszek do czyszczenia</td>\n      <td></td>\n      <td>ECO+</td>\n      <td>1,69 zł</td>\n      <td>amount 499 g capacity  extras  image_url https...</td>\n      <td>{'amount': '499 g', 'capacity': '', 'extras': ...</td>\n    </tr>\n    <tr>\n      <th>5411</th>\n      <td>5449000087775</td>\n      <td>[{'EAN': ['5449000087775']}]</td>\n      <td>napoje</td>\n      <td>Fanta Pomarańczowa Napój gazowany 2 x 1,5 l</td>\n      <td></td>\n      <td>Fanta</td>\n      <td>9,59 zł</td>\n      <td>amount 3.00 L capacity  extras konserwanty: Ni...</td>\n      <td>{'amount': '3.00 L', 'capacity': '', 'extras':...</td>\n    </tr>\n    <tr>\n      <th>7890</th>\n      <td>5060466512665</td>\n      <td>[{'EAN': ['5060466512665']}]</td>\n      <td>napoje</td>\n      <td>Burn Apple Kiwi Gazowany napój energetyczny 25...</td>\n      <td>Burn Apple Kiwi Gazowany napój energetyczny 25...</td>\n      <td></td>\n      <td>2.89</td>\n      <td>amount 250 ml capacity 250 ml extras  image_ur...</td>\n      <td>{'amount': '250 ml', 'capacity': '250 ml', 'ex...</td>\n    </tr>\n    <tr>\n      <th>7645</th>\n      <td>5901886010198</td>\n      <td>[{'EAN': ['5901886010198']}]</td>\n      <td>napoje</td>\n      <td>Garden Napój jabłko 2 l</td>\n      <td>Garden Napój jabłko 2 l FSC - www.fsc.org, Mie...</td>\n      <td>Garden</td>\n      <td>3.69</td>\n      <td>amount 2 l capacity 2 l extras konserwanty - N...</td>\n      <td>{'amount': '2 l', 'capacity': '2 l', 'extras':...</td>\n    </tr>\n    <tr>\n      <th>5361</th>\n      <td>5900497036726</td>\n      <td>[{'EAN': ['5900497036726']}]</td>\n      <td>napoje</td>\n      <td>Pepsi Lime Napój gazowany 1,5 l</td>\n      <td></td>\n      <td>Pepsi</td>\n      <td>3,99 zł</td>\n      <td>amount 1.50 L capacity  extras Substancje słod...</td>\n      <td>{'amount': '1.50 L', 'capacity': '', 'extras':...</td>\n    </tr>\n  </tbody>\n</table>\n</div>"
     },
     "execution_count": 286,
     "metadata": {},
     "output_type": "execute_result"
    }
   ],
   "source": [
    "wdc_df_non_normalized = to_WDC_standard(df)\n",
    "wdc_df_non_normalized.head()"
   ],
   "metadata": {
    "collapsed": false,
    "pycharm": {
     "name": "#%%\n"
    }
   }
  },
  {
   "cell_type": "code",
   "execution_count": 287,
   "outputs": [],
   "source": [
    "wdc_df_non_normalized.to_json('pl_wdc_non_normalized.json.gz', orient='records', compression='gzip', index=True)"
   ],
   "metadata": {
    "collapsed": false,
    "pycharm": {
     "name": "#%%\n"
    }
   }
  },
  {
   "cell_type": "code",
   "execution_count": 288,
   "outputs": [
    {
     "data": {
      "text/plain": "         cluster_id                   identifiers category  \\\nid                                                           \n5787  5907637328574  [{'EAN': ['5907637328574']}]   chemia   \n5411  5449000087775  [{'EAN': ['5449000087775']}]   napoje   \n7890  5060466512665  [{'EAN': ['5060466512665']}]   napoje   \n7645  5901886010198  [{'EAN': ['5901886010198']}]   napoje   \n5361  5900497036726  [{'EAN': ['5900497036726']}]   napoje   \n\n                                                  title  \\\nid                                                        \n5787                             proszek do czyszczenia   \n5411        fanta pomarańczowa napój gazowany 2 x 1 5 l   \n7890  burn apple kiwi gazowany napój energetyczny 25...   \n7645                            garden napój jabłko 2 l   \n5361                    pepsi lime napój gazowany 1 5 l   \n\n                                            description   brand    price  \\\nid                                                                         \n5787                                                       eco   1 69 zł   \n5411                                                      fanta  9 59 zł   \n7890  burn apple kiwi gazowany napój energetyczny 25...             2 89   \n7645  garden napój jabłko 2 l fsc www fsc org miesza...  garden     3 69   \n5361                                                      pepsi  3 99 zł   \n\n                                       specTableContent  \\\nid                                                        \n5787  amount 499 g capacity  extras  image_url https...   \n5411  amount 3 00 l capacity  extras konserwanty nie...   \n7890  amount 250 ml capacity 250 ml extras  image_ur...   \n7645  amount 2 l capacity 2 l extras konserwanty nie...   \n5361  amount 1 50 l capacity  extras substancje słod...   \n\n                                          keyValuePairs  \nid                                                       \n5787  {'amount': '499 g', 'capacity': '', 'extras': ...  \n5411  {'amount': '3 00 l', 'capacity': '', 'extras':...  \n7890  {'amount': '250 ml', 'capacity': '250 ml', 'ex...  \n7645  {'amount': '2 l', 'capacity': '2 l', 'extras':...  \n5361  {'amount': '1 50 l', 'capacity': '', 'extras':...  ",
      "text/html": "<div>\n<style scoped>\n    .dataframe tbody tr th:only-of-type {\n        vertical-align: middle;\n    }\n\n    .dataframe tbody tr th {\n        vertical-align: top;\n    }\n\n    .dataframe thead th {\n        text-align: right;\n    }\n</style>\n<table border=\"1\" class=\"dataframe\">\n  <thead>\n    <tr style=\"text-align: right;\">\n      <th></th>\n      <th>cluster_id</th>\n      <th>identifiers</th>\n      <th>category</th>\n      <th>title</th>\n      <th>description</th>\n      <th>brand</th>\n      <th>price</th>\n      <th>specTableContent</th>\n      <th>keyValuePairs</th>\n    </tr>\n    <tr>\n      <th>id</th>\n      <th></th>\n      <th></th>\n      <th></th>\n      <th></th>\n      <th></th>\n      <th></th>\n      <th></th>\n      <th></th>\n      <th></th>\n    </tr>\n  </thead>\n  <tbody>\n    <tr>\n      <th>5787</th>\n      <td>5907637328574</td>\n      <td>[{'EAN': ['5907637328574']}]</td>\n      <td>chemia</td>\n      <td>proszek do czyszczenia</td>\n      <td></td>\n      <td>eco</td>\n      <td>1 69 zł</td>\n      <td>amount 499 g capacity  extras  image_url https...</td>\n      <td>{'amount': '499 g', 'capacity': '', 'extras': ...</td>\n    </tr>\n    <tr>\n      <th>5411</th>\n      <td>5449000087775</td>\n      <td>[{'EAN': ['5449000087775']}]</td>\n      <td>napoje</td>\n      <td>fanta pomarańczowa napój gazowany 2 x 1 5 l</td>\n      <td></td>\n      <td>fanta</td>\n      <td>9 59 zł</td>\n      <td>amount 3 00 l capacity  extras konserwanty nie...</td>\n      <td>{'amount': '3 00 l', 'capacity': '', 'extras':...</td>\n    </tr>\n    <tr>\n      <th>7890</th>\n      <td>5060466512665</td>\n      <td>[{'EAN': ['5060466512665']}]</td>\n      <td>napoje</td>\n      <td>burn apple kiwi gazowany napój energetyczny 25...</td>\n      <td>burn apple kiwi gazowany napój energetyczny 25...</td>\n      <td></td>\n      <td>2 89</td>\n      <td>amount 250 ml capacity 250 ml extras  image_ur...</td>\n      <td>{'amount': '250 ml', 'capacity': '250 ml', 'ex...</td>\n    </tr>\n    <tr>\n      <th>7645</th>\n      <td>5901886010198</td>\n      <td>[{'EAN': ['5901886010198']}]</td>\n      <td>napoje</td>\n      <td>garden napój jabłko 2 l</td>\n      <td>garden napój jabłko 2 l fsc www fsc org miesza...</td>\n      <td>garden</td>\n      <td>3 69</td>\n      <td>amount 2 l capacity 2 l extras konserwanty nie...</td>\n      <td>{'amount': '2 l', 'capacity': '2 l', 'extras':...</td>\n    </tr>\n    <tr>\n      <th>5361</th>\n      <td>5900497036726</td>\n      <td>[{'EAN': ['5900497036726']}]</td>\n      <td>napoje</td>\n      <td>pepsi lime napój gazowany 1 5 l</td>\n      <td></td>\n      <td>pepsi</td>\n      <td>3 99 zł</td>\n      <td>amount 1 50 l capacity  extras substancje słod...</td>\n      <td>{'amount': '1 50 l', 'capacity': '', 'extras':...</td>\n    </tr>\n  </tbody>\n</table>\n</div>"
     },
     "execution_count": 288,
     "metadata": {},
     "output_type": "execute_result"
    }
   ],
   "source": [
    "wdc_df_normalized = to_WDC_standard(df_normalized)\n",
    "wdc_df_normalized.head()"
   ],
   "metadata": {
    "collapsed": false,
    "pycharm": {
     "name": "#%%\n"
    }
   }
  },
  {
   "cell_type": "code",
   "execution_count": 289,
   "outputs": [],
   "source": [
    "wdc_df_normalized.to_json('pl_wdc_normalized.json.gz', orient='records', compression='gzip', index=True)"
   ],
   "metadata": {
    "collapsed": false,
    "pycharm": {
     "name": "#%%\n"
    }
   }
  },
  {
   "cell_type": "code",
   "execution_count": 290,
   "outputs": [
    {
     "data": {
      "text/plain": "   id_left              identifiers_left category_left  \\\n0     5787  [{'EAN': ['5907637328574']}]        chemia   \n1     5787  [{'EAN': ['5907637328574']}]        chemia   \n2     6891  [{'EAN': ['5907637328574']}]        chemia   \n3     6891  [{'EAN': ['5907637328574']}]        chemia   \n4     5411  [{'EAN': ['5449000087775']}]        napoje   \n\n                                    title_left        description_left  \\\n0                       proszek do czyszczenia                           \n1                       proszek do czyszczenia                           \n2                  proszek do czyszczenia 500g  proszek do czyszczenia   \n3                  proszek do czyszczenia 500g  proszek do czyszczenia   \n4  fanta pomarańczowa napój gazowany 2 x 1 5 l                           \n\n  brand_left price_left                              specTableContent_left  \\\n0       eco     1 69 zł  amount 499 g capacity  extras  image_url https...   \n1       eco     1 69 zł  amount 499 g capacity  extras  image_url https...   \n2       eco        1 89  amount  capacity  extras  image_url https www ...   \n3       eco        1 89  amount  capacity  extras  image_url https www ...   \n4      fanta    9 59 zł  amount 3 00 l capacity  extras konserwanty nie...   \n\n                                  keyValuePairs_left  id_right  ...  \\\n0  {'amount': '499 g', 'capacity': '', 'extras': ...      5787  ...   \n1  {'amount': '499 g', 'capacity': '', 'extras': ...      6891  ...   \n2  {'amount': '', 'capacity': '', 'extras': '', '...      5787  ...   \n3  {'amount': '', 'capacity': '', 'extras': '', '...      6891  ...   \n4  {'amount': '3 00 l', 'capacity': '', 'extras':...      5411  ...   \n\n  category_right                                  title_right  \\\n0         chemia                       proszek do czyszczenia   \n1         chemia                  proszek do czyszczenia 500g   \n2         chemia                       proszek do czyszczenia   \n3         chemia                  proszek do czyszczenia 500g   \n4         napoje  fanta pomarańczowa napój gazowany 2 x 1 5 l   \n\n        description_right brand_right price_right  \\\n0                                eco      1 69 zł   \n1  proszek do czyszczenia        eco         1 89   \n2                                eco      1 69 zł   \n3  proszek do czyszczenia        eco         1 89   \n4                               fanta     9 59 zł   \n\n                              specTableContent_right  \\\n0  amount 499 g capacity  extras  image_url https...   \n1  amount  capacity  extras  image_url https www ...   \n2  amount 499 g capacity  extras  image_url https...   \n3  amount  capacity  extras  image_url https www ...   \n4  amount 3 00 l capacity  extras konserwanty nie...   \n\n                                 keyValuePairs_right cluster_id_left  \\\n0  {'amount': '499 g', 'capacity': '', 'extras': ...   5907637328574   \n1  {'amount': '', 'capacity': '', 'extras': '', '...   5907637328574   \n2  {'amount': '499 g', 'capacity': '', 'extras': ...   5907637328574   \n3  {'amount': '', 'capacity': '', 'extras': '', '...   5907637328574   \n4  {'amount': '3 00 l', 'capacity': '', 'extras':...   5449000087775   \n\n  cluster_id_right label  \n0    5907637328574     1  \n1    5907637328574     1  \n2    5907637328574     1  \n3    5907637328574     1  \n4    5449000087775     1  \n\n[5 rows x 21 columns]",
      "text/html": "<div>\n<style scoped>\n    .dataframe tbody tr th:only-of-type {\n        vertical-align: middle;\n    }\n\n    .dataframe tbody tr th {\n        vertical-align: top;\n    }\n\n    .dataframe thead th {\n        text-align: right;\n    }\n</style>\n<table border=\"1\" class=\"dataframe\">\n  <thead>\n    <tr style=\"text-align: right;\">\n      <th></th>\n      <th>id_left</th>\n      <th>identifiers_left</th>\n      <th>category_left</th>\n      <th>title_left</th>\n      <th>description_left</th>\n      <th>brand_left</th>\n      <th>price_left</th>\n      <th>specTableContent_left</th>\n      <th>keyValuePairs_left</th>\n      <th>id_right</th>\n      <th>...</th>\n      <th>category_right</th>\n      <th>title_right</th>\n      <th>description_right</th>\n      <th>brand_right</th>\n      <th>price_right</th>\n      <th>specTableContent_right</th>\n      <th>keyValuePairs_right</th>\n      <th>cluster_id_left</th>\n      <th>cluster_id_right</th>\n      <th>label</th>\n    </tr>\n  </thead>\n  <tbody>\n    <tr>\n      <th>0</th>\n      <td>5787</td>\n      <td>[{'EAN': ['5907637328574']}]</td>\n      <td>chemia</td>\n      <td>proszek do czyszczenia</td>\n      <td></td>\n      <td>eco</td>\n      <td>1 69 zł</td>\n      <td>amount 499 g capacity  extras  image_url https...</td>\n      <td>{'amount': '499 g', 'capacity': '', 'extras': ...</td>\n      <td>5787</td>\n      <td>...</td>\n      <td>chemia</td>\n      <td>proszek do czyszczenia</td>\n      <td></td>\n      <td>eco</td>\n      <td>1 69 zł</td>\n      <td>amount 499 g capacity  extras  image_url https...</td>\n      <td>{'amount': '499 g', 'capacity': '', 'extras': ...</td>\n      <td>5907637328574</td>\n      <td>5907637328574</td>\n      <td>1</td>\n    </tr>\n    <tr>\n      <th>1</th>\n      <td>5787</td>\n      <td>[{'EAN': ['5907637328574']}]</td>\n      <td>chemia</td>\n      <td>proszek do czyszczenia</td>\n      <td></td>\n      <td>eco</td>\n      <td>1 69 zł</td>\n      <td>amount 499 g capacity  extras  image_url https...</td>\n      <td>{'amount': '499 g', 'capacity': '', 'extras': ...</td>\n      <td>6891</td>\n      <td>...</td>\n      <td>chemia</td>\n      <td>proszek do czyszczenia 500g</td>\n      <td>proszek do czyszczenia</td>\n      <td>eco</td>\n      <td>1 89</td>\n      <td>amount  capacity  extras  image_url https www ...</td>\n      <td>{'amount': '', 'capacity': '', 'extras': '', '...</td>\n      <td>5907637328574</td>\n      <td>5907637328574</td>\n      <td>1</td>\n    </tr>\n    <tr>\n      <th>2</th>\n      <td>6891</td>\n      <td>[{'EAN': ['5907637328574']}]</td>\n      <td>chemia</td>\n      <td>proszek do czyszczenia 500g</td>\n      <td>proszek do czyszczenia</td>\n      <td>eco</td>\n      <td>1 89</td>\n      <td>amount  capacity  extras  image_url https www ...</td>\n      <td>{'amount': '', 'capacity': '', 'extras': '', '...</td>\n      <td>5787</td>\n      <td>...</td>\n      <td>chemia</td>\n      <td>proszek do czyszczenia</td>\n      <td></td>\n      <td>eco</td>\n      <td>1 69 zł</td>\n      <td>amount 499 g capacity  extras  image_url https...</td>\n      <td>{'amount': '499 g', 'capacity': '', 'extras': ...</td>\n      <td>5907637328574</td>\n      <td>5907637328574</td>\n      <td>1</td>\n    </tr>\n    <tr>\n      <th>3</th>\n      <td>6891</td>\n      <td>[{'EAN': ['5907637328574']}]</td>\n      <td>chemia</td>\n      <td>proszek do czyszczenia 500g</td>\n      <td>proszek do czyszczenia</td>\n      <td>eco</td>\n      <td>1 89</td>\n      <td>amount  capacity  extras  image_url https www ...</td>\n      <td>{'amount': '', 'capacity': '', 'extras': '', '...</td>\n      <td>6891</td>\n      <td>...</td>\n      <td>chemia</td>\n      <td>proszek do czyszczenia 500g</td>\n      <td>proszek do czyszczenia</td>\n      <td>eco</td>\n      <td>1 89</td>\n      <td>amount  capacity  extras  image_url https www ...</td>\n      <td>{'amount': '', 'capacity': '', 'extras': '', '...</td>\n      <td>5907637328574</td>\n      <td>5907637328574</td>\n      <td>1</td>\n    </tr>\n    <tr>\n      <th>4</th>\n      <td>5411</td>\n      <td>[{'EAN': ['5449000087775']}]</td>\n      <td>napoje</td>\n      <td>fanta pomarańczowa napój gazowany 2 x 1 5 l</td>\n      <td></td>\n      <td>fanta</td>\n      <td>9 59 zł</td>\n      <td>amount 3 00 l capacity  extras konserwanty nie...</td>\n      <td>{'amount': '3 00 l', 'capacity': '', 'extras':...</td>\n      <td>5411</td>\n      <td>...</td>\n      <td>napoje</td>\n      <td>fanta pomarańczowa napój gazowany 2 x 1 5 l</td>\n      <td></td>\n      <td>fanta</td>\n      <td>9 59 zł</td>\n      <td>amount 3 00 l capacity  extras konserwanty nie...</td>\n      <td>{'amount': '3 00 l', 'capacity': '', 'extras':...</td>\n      <td>5449000087775</td>\n      <td>5449000087775</td>\n      <td>1</td>\n    </tr>\n  </tbody>\n</table>\n<p>5 rows × 21 columns</p>\n</div>"
     },
     "execution_count": 290,
     "metadata": {},
     "output_type": "execute_result"
    }
   ],
   "source": [
    "wdc_df_normalized.reset_index(level=0, inplace=True)\n",
    "positive_pairs_normalized = wdc_df_normalized.merge(wdc_df_normalized, on='cluster_id',\n",
    "                                                    suffixes=['_left', '_right'])\n",
    "positive_pairs_normalized['cluster_id_left'] = positive_pairs_normalized['cluster_id']\n",
    "positive_pairs_normalized['cluster_id_right'] = positive_pairs_normalized['cluster_id']\n",
    "positive_pairs_normalized['label'] = 1\n",
    "positive_pairs_normalized = positive_pairs_normalized.drop('cluster_id', axis=1)\n",
    "positive_pairs_normalized.head()"
   ],
   "metadata": {
    "collapsed": false,
    "pycharm": {
     "name": "#%%\n"
    }
   }
  },
  {
   "cell_type": "code",
   "execution_count": 294,
   "outputs": [
    {
     "data": {
      "text/plain": "                              id_left  identifiers_left  title_left  \\\ncategory_left category_right                                          \nchemia        chemia             3827              3827        3827   \nnapoje        napoje             2967              2967        2967   \n\n                              description_left  brand_left  price_left  \\\ncategory_left category_right                                             \nchemia        chemia                      3827        3827        3827   \nnapoje        napoje                      2967        2967        2967   \n\n                              specTableContent_left  keyValuePairs_left  \\\ncategory_left category_right                                              \nchemia        chemia                           3827                3827   \nnapoje        napoje                           2967                2967   \n\n                              id_right  identifiers_right  title_right  \\\ncategory_left category_right                                             \nchemia        chemia              3827               3827         3827   \nnapoje        napoje              2967               2967         2967   \n\n                              description_right  brand_right  price_right  \\\ncategory_left category_right                                                \nchemia        chemia                       3827         3827         3827   \nnapoje        napoje                       2967         2967         2967   \n\n                              specTableContent_right  keyValuePairs_right  \\\ncategory_left category_right                                                \nchemia        chemia                            3827                 3827   \nnapoje        napoje                            2967                 2967   \n\n                              cluster_id_left  cluster_id_right  label  \ncategory_left category_right                                            \nchemia        chemia                     3827              3827   3827  \nnapoje        napoje                     2967              2967   2967  ",
      "text/html": "<div>\n<style scoped>\n    .dataframe tbody tr th:only-of-type {\n        vertical-align: middle;\n    }\n\n    .dataframe tbody tr th {\n        vertical-align: top;\n    }\n\n    .dataframe thead th {\n        text-align: right;\n    }\n</style>\n<table border=\"1\" class=\"dataframe\">\n  <thead>\n    <tr style=\"text-align: right;\">\n      <th></th>\n      <th></th>\n      <th>id_left</th>\n      <th>identifiers_left</th>\n      <th>title_left</th>\n      <th>description_left</th>\n      <th>brand_left</th>\n      <th>price_left</th>\n      <th>specTableContent_left</th>\n      <th>keyValuePairs_left</th>\n      <th>id_right</th>\n      <th>identifiers_right</th>\n      <th>title_right</th>\n      <th>description_right</th>\n      <th>brand_right</th>\n      <th>price_right</th>\n      <th>specTableContent_right</th>\n      <th>keyValuePairs_right</th>\n      <th>cluster_id_left</th>\n      <th>cluster_id_right</th>\n      <th>label</th>\n    </tr>\n    <tr>\n      <th>category_left</th>\n      <th>category_right</th>\n      <th></th>\n      <th></th>\n      <th></th>\n      <th></th>\n      <th></th>\n      <th></th>\n      <th></th>\n      <th></th>\n      <th></th>\n      <th></th>\n      <th></th>\n      <th></th>\n      <th></th>\n      <th></th>\n      <th></th>\n      <th></th>\n      <th></th>\n      <th></th>\n      <th></th>\n    </tr>\n  </thead>\n  <tbody>\n    <tr>\n      <th>chemia</th>\n      <th>chemia</th>\n      <td>3827</td>\n      <td>3827</td>\n      <td>3827</td>\n      <td>3827</td>\n      <td>3827</td>\n      <td>3827</td>\n      <td>3827</td>\n      <td>3827</td>\n      <td>3827</td>\n      <td>3827</td>\n      <td>3827</td>\n      <td>3827</td>\n      <td>3827</td>\n      <td>3827</td>\n      <td>3827</td>\n      <td>3827</td>\n      <td>3827</td>\n      <td>3827</td>\n      <td>3827</td>\n    </tr>\n    <tr>\n      <th>napoje</th>\n      <th>napoje</th>\n      <td>2967</td>\n      <td>2967</td>\n      <td>2967</td>\n      <td>2967</td>\n      <td>2967</td>\n      <td>2967</td>\n      <td>2967</td>\n      <td>2967</td>\n      <td>2967</td>\n      <td>2967</td>\n      <td>2967</td>\n      <td>2967</td>\n      <td>2967</td>\n      <td>2967</td>\n      <td>2967</td>\n      <td>2967</td>\n      <td>2967</td>\n      <td>2967</td>\n      <td>2967</td>\n    </tr>\n  </tbody>\n</table>\n</div>"
     },
     "execution_count": 294,
     "metadata": {},
     "output_type": "execute_result"
    }
   ],
   "source": [
    "positive_pairs_normalized.groupby(by=['category_left', 'category_right']).count()"
   ],
   "metadata": {
    "collapsed": false,
    "pycharm": {
     "name": "#%%\n"
    }
   }
  },
  {
   "cell_type": "code",
   "execution_count": null,
   "outputs": [],
   "source": [],
   "metadata": {
    "collapsed": false,
    "pycharm": {
     "name": "#%%\n"
    }
   }
  }
 ],
 "metadata": {
  "kernelspec": {
   "display_name": "Python 3",
   "language": "python",
   "name": "python3"
  },
  "language_info": {
   "codemirror_mode": {
    "name": "ipython",
    "version": 2
   },
   "file_extension": ".py",
   "mimetype": "text/x-python",
   "name": "python",
   "nbconvert_exporter": "python",
   "pygments_lexer": "ipython2",
   "version": "2.7.6"
  }
 },
 "nbformat": 4,
 "nbformat_minor": 0
}